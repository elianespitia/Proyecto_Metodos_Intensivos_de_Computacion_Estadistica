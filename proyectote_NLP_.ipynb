{
  "nbformat": 4,
  "nbformat_minor": 0,
  "metadata": {
    "colab": {
      "provenance": []
    },
    "kernelspec": {
      "name": "python3",
      "display_name": "Python 3"
    },
    "language_info": {
      "name": "python"
    },
    "accelerator": "GPU",
    "gpuClass": "standard",
    "widgets": {
      "application/vnd.jupyter.widget-state+json": {
        "5ef88c69c34f491697dfc5a5808d1da3": {
          "model_module": "@jupyter-widgets/controls",
          "model_name": "HBoxModel",
          "model_module_version": "1.5.0",
          "state": {
            "_dom_classes": [],
            "_model_module": "@jupyter-widgets/controls",
            "_model_module_version": "1.5.0",
            "_model_name": "HBoxModel",
            "_view_count": null,
            "_view_module": "@jupyter-widgets/controls",
            "_view_module_version": "1.5.0",
            "_view_name": "HBoxView",
            "box_style": "",
            "children": [
              "IPY_MODEL_f2c97d5477d1428a97b39b8d68060c8e",
              "IPY_MODEL_bbde46815a8c44c5abe5ba4aa6d90cf7",
              "IPY_MODEL_d837ef3f56894eb5ac8ff92caba7a0e7"
            ],
            "layout": "IPY_MODEL_6fc62beaf2d04663a0a0af2e2197d952"
          }
        },
        "f2c97d5477d1428a97b39b8d68060c8e": {
          "model_module": "@jupyter-widgets/controls",
          "model_name": "HTMLModel",
          "model_module_version": "1.5.0",
          "state": {
            "_dom_classes": [],
            "_model_module": "@jupyter-widgets/controls",
            "_model_module_version": "1.5.0",
            "_model_name": "HTMLModel",
            "_view_count": null,
            "_view_module": "@jupyter-widgets/controls",
            "_view_module_version": "1.5.0",
            "_view_name": "HTMLView",
            "description": "",
            "description_tooltip": null,
            "layout": "IPY_MODEL_cba0d94a3bf24ec994d4520547e6346b",
            "placeholder": "​",
            "style": "IPY_MODEL_2fc48efcfb674cd5b2cb2ebc67c17caa",
            "value": "Downloading builder script: 100%"
          }
        },
        "bbde46815a8c44c5abe5ba4aa6d90cf7": {
          "model_module": "@jupyter-widgets/controls",
          "model_name": "FloatProgressModel",
          "model_module_version": "1.5.0",
          "state": {
            "_dom_classes": [],
            "_model_module": "@jupyter-widgets/controls",
            "_model_module_version": "1.5.0",
            "_model_name": "FloatProgressModel",
            "_view_count": null,
            "_view_module": "@jupyter-widgets/controls",
            "_view_module_version": "1.5.0",
            "_view_name": "ProgressView",
            "bar_style": "success",
            "description": "",
            "description_tooltip": null,
            "layout": "IPY_MODEL_b80db0b2deca4317aa7e9716755169c2",
            "max": 3251,
            "min": 0,
            "orientation": "horizontal",
            "style": "IPY_MODEL_fc8d7cd874424da38fa90a85e3d31804",
            "value": 3251
          }
        },
        "d837ef3f56894eb5ac8ff92caba7a0e7": {
          "model_module": "@jupyter-widgets/controls",
          "model_name": "HTMLModel",
          "model_module_version": "1.5.0",
          "state": {
            "_dom_classes": [],
            "_model_module": "@jupyter-widgets/controls",
            "_model_module_version": "1.5.0",
            "_model_name": "HTMLModel",
            "_view_count": null,
            "_view_module": "@jupyter-widgets/controls",
            "_view_module_version": "1.5.0",
            "_view_name": "HTMLView",
            "description": "",
            "description_tooltip": null,
            "layout": "IPY_MODEL_c9ce1c6c568045a98692025a161f3c3d",
            "placeholder": "​",
            "style": "IPY_MODEL_cc81ab28f05846998862e82f9e86dd57",
            "value": " 3.25k/3.25k [00:00&lt;00:00, 73.1kB/s]"
          }
        },
        "6fc62beaf2d04663a0a0af2e2197d952": {
          "model_module": "@jupyter-widgets/base",
          "model_name": "LayoutModel",
          "model_module_version": "1.2.0",
          "state": {
            "_model_module": "@jupyter-widgets/base",
            "_model_module_version": "1.2.0",
            "_model_name": "LayoutModel",
            "_view_count": null,
            "_view_module": "@jupyter-widgets/base",
            "_view_module_version": "1.2.0",
            "_view_name": "LayoutView",
            "align_content": null,
            "align_items": null,
            "align_self": null,
            "border": null,
            "bottom": null,
            "display": null,
            "flex": null,
            "flex_flow": null,
            "grid_area": null,
            "grid_auto_columns": null,
            "grid_auto_flow": null,
            "grid_auto_rows": null,
            "grid_column": null,
            "grid_gap": null,
            "grid_row": null,
            "grid_template_areas": null,
            "grid_template_columns": null,
            "grid_template_rows": null,
            "height": null,
            "justify_content": null,
            "justify_items": null,
            "left": null,
            "margin": null,
            "max_height": null,
            "max_width": null,
            "min_height": null,
            "min_width": null,
            "object_fit": null,
            "object_position": null,
            "order": null,
            "overflow": null,
            "overflow_x": null,
            "overflow_y": null,
            "padding": null,
            "right": null,
            "top": null,
            "visibility": null,
            "width": null
          }
        },
        "cba0d94a3bf24ec994d4520547e6346b": {
          "model_module": "@jupyter-widgets/base",
          "model_name": "LayoutModel",
          "model_module_version": "1.2.0",
          "state": {
            "_model_module": "@jupyter-widgets/base",
            "_model_module_version": "1.2.0",
            "_model_name": "LayoutModel",
            "_view_count": null,
            "_view_module": "@jupyter-widgets/base",
            "_view_module_version": "1.2.0",
            "_view_name": "LayoutView",
            "align_content": null,
            "align_items": null,
            "align_self": null,
            "border": null,
            "bottom": null,
            "display": null,
            "flex": null,
            "flex_flow": null,
            "grid_area": null,
            "grid_auto_columns": null,
            "grid_auto_flow": null,
            "grid_auto_rows": null,
            "grid_column": null,
            "grid_gap": null,
            "grid_row": null,
            "grid_template_areas": null,
            "grid_template_columns": null,
            "grid_template_rows": null,
            "height": null,
            "justify_content": null,
            "justify_items": null,
            "left": null,
            "margin": null,
            "max_height": null,
            "max_width": null,
            "min_height": null,
            "min_width": null,
            "object_fit": null,
            "object_position": null,
            "order": null,
            "overflow": null,
            "overflow_x": null,
            "overflow_y": null,
            "padding": null,
            "right": null,
            "top": null,
            "visibility": null,
            "width": null
          }
        },
        "2fc48efcfb674cd5b2cb2ebc67c17caa": {
          "model_module": "@jupyter-widgets/controls",
          "model_name": "DescriptionStyleModel",
          "model_module_version": "1.5.0",
          "state": {
            "_model_module": "@jupyter-widgets/controls",
            "_model_module_version": "1.5.0",
            "_model_name": "DescriptionStyleModel",
            "_view_count": null,
            "_view_module": "@jupyter-widgets/base",
            "_view_module_version": "1.2.0",
            "_view_name": "StyleView",
            "description_width": ""
          }
        },
        "b80db0b2deca4317aa7e9716755169c2": {
          "model_module": "@jupyter-widgets/base",
          "model_name": "LayoutModel",
          "model_module_version": "1.2.0",
          "state": {
            "_model_module": "@jupyter-widgets/base",
            "_model_module_version": "1.2.0",
            "_model_name": "LayoutModel",
            "_view_count": null,
            "_view_module": "@jupyter-widgets/base",
            "_view_module_version": "1.2.0",
            "_view_name": "LayoutView",
            "align_content": null,
            "align_items": null,
            "align_self": null,
            "border": null,
            "bottom": null,
            "display": null,
            "flex": null,
            "flex_flow": null,
            "grid_area": null,
            "grid_auto_columns": null,
            "grid_auto_flow": null,
            "grid_auto_rows": null,
            "grid_column": null,
            "grid_gap": null,
            "grid_row": null,
            "grid_template_areas": null,
            "grid_template_columns": null,
            "grid_template_rows": null,
            "height": null,
            "justify_content": null,
            "justify_items": null,
            "left": null,
            "margin": null,
            "max_height": null,
            "max_width": null,
            "min_height": null,
            "min_width": null,
            "object_fit": null,
            "object_position": null,
            "order": null,
            "overflow": null,
            "overflow_x": null,
            "overflow_y": null,
            "padding": null,
            "right": null,
            "top": null,
            "visibility": null,
            "width": null
          }
        },
        "fc8d7cd874424da38fa90a85e3d31804": {
          "model_module": "@jupyter-widgets/controls",
          "model_name": "ProgressStyleModel",
          "model_module_version": "1.5.0",
          "state": {
            "_model_module": "@jupyter-widgets/controls",
            "_model_module_version": "1.5.0",
            "_model_name": "ProgressStyleModel",
            "_view_count": null,
            "_view_module": "@jupyter-widgets/base",
            "_view_module_version": "1.2.0",
            "_view_name": "StyleView",
            "bar_color": null,
            "description_width": ""
          }
        },
        "c9ce1c6c568045a98692025a161f3c3d": {
          "model_module": "@jupyter-widgets/base",
          "model_name": "LayoutModel",
          "model_module_version": "1.2.0",
          "state": {
            "_model_module": "@jupyter-widgets/base",
            "_model_module_version": "1.2.0",
            "_model_name": "LayoutModel",
            "_view_count": null,
            "_view_module": "@jupyter-widgets/base",
            "_view_module_version": "1.2.0",
            "_view_name": "LayoutView",
            "align_content": null,
            "align_items": null,
            "align_self": null,
            "border": null,
            "bottom": null,
            "display": null,
            "flex": null,
            "flex_flow": null,
            "grid_area": null,
            "grid_auto_columns": null,
            "grid_auto_flow": null,
            "grid_auto_rows": null,
            "grid_column": null,
            "grid_gap": null,
            "grid_row": null,
            "grid_template_areas": null,
            "grid_template_columns": null,
            "grid_template_rows": null,
            "height": null,
            "justify_content": null,
            "justify_items": null,
            "left": null,
            "margin": null,
            "max_height": null,
            "max_width": null,
            "min_height": null,
            "min_width": null,
            "object_fit": null,
            "object_position": null,
            "order": null,
            "overflow": null,
            "overflow_x": null,
            "overflow_y": null,
            "padding": null,
            "right": null,
            "top": null,
            "visibility": null,
            "width": null
          }
        },
        "cc81ab28f05846998862e82f9e86dd57": {
          "model_module": "@jupyter-widgets/controls",
          "model_name": "DescriptionStyleModel",
          "model_module_version": "1.5.0",
          "state": {
            "_model_module": "@jupyter-widgets/controls",
            "_model_module_version": "1.5.0",
            "_model_name": "DescriptionStyleModel",
            "_view_count": null,
            "_view_module": "@jupyter-widgets/base",
            "_view_module_version": "1.2.0",
            "_view_name": "StyleView",
            "description_width": ""
          }
        },
        "d9573ed3da674d3ca84543aebad55153": {
          "model_module": "@jupyter-widgets/controls",
          "model_name": "HBoxModel",
          "model_module_version": "1.5.0",
          "state": {
            "_dom_classes": [],
            "_model_module": "@jupyter-widgets/controls",
            "_model_module_version": "1.5.0",
            "_model_name": "HBoxModel",
            "_view_count": null,
            "_view_module": "@jupyter-widgets/controls",
            "_view_module_version": "1.5.0",
            "_view_name": "HBoxView",
            "box_style": "",
            "children": [
              "IPY_MODEL_0ec6155331484d94a99a21505a93ef46",
              "IPY_MODEL_1670fefc7c7a45e884a45cd905ce71c2",
              "IPY_MODEL_4e6d116136dd4f86a58ebbef6bf568b7"
            ],
            "layout": "IPY_MODEL_ef652f8e3b82446e87152fbf2cff8f72"
          }
        },
        "0ec6155331484d94a99a21505a93ef46": {
          "model_module": "@jupyter-widgets/controls",
          "model_name": "HTMLModel",
          "model_module_version": "1.5.0",
          "state": {
            "_dom_classes": [],
            "_model_module": "@jupyter-widgets/controls",
            "_model_module_version": "1.5.0",
            "_model_name": "HTMLModel",
            "_view_count": null,
            "_view_module": "@jupyter-widgets/controls",
            "_view_module_version": "1.5.0",
            "_view_name": "HTMLView",
            "description": "",
            "description_tooltip": null,
            "layout": "IPY_MODEL_c2f74e741ed6435d9db96edb4d52a4f6",
            "placeholder": "​",
            "style": "IPY_MODEL_7dd3b2996d654a29944e2ec341e56650",
            "value": "Downloading metadata: 100%"
          }
        },
        "1670fefc7c7a45e884a45cd905ce71c2": {
          "model_module": "@jupyter-widgets/controls",
          "model_name": "FloatProgressModel",
          "model_module_version": "1.5.0",
          "state": {
            "_dom_classes": [],
            "_model_module": "@jupyter-widgets/controls",
            "_model_module_version": "1.5.0",
            "_model_name": "FloatProgressModel",
            "_view_count": null,
            "_view_module": "@jupyter-widgets/controls",
            "_view_module_version": "1.5.0",
            "_view_name": "ProgressView",
            "bar_style": "success",
            "description": "",
            "description_tooltip": null,
            "layout": "IPY_MODEL_5e33f5119e5e4fbfb5709a677f076ea9",
            "max": 1558,
            "min": 0,
            "orientation": "horizontal",
            "style": "IPY_MODEL_457c602e451a482f884e17198c40cfcb",
            "value": 1558
          }
        },
        "4e6d116136dd4f86a58ebbef6bf568b7": {
          "model_module": "@jupyter-widgets/controls",
          "model_name": "HTMLModel",
          "model_module_version": "1.5.0",
          "state": {
            "_dom_classes": [],
            "_model_module": "@jupyter-widgets/controls",
            "_model_module_version": "1.5.0",
            "_model_name": "HTMLModel",
            "_view_count": null,
            "_view_module": "@jupyter-widgets/controls",
            "_view_module_version": "1.5.0",
            "_view_name": "HTMLView",
            "description": "",
            "description_tooltip": null,
            "layout": "IPY_MODEL_bb50d168a4064f35900d7ed87ac64f09",
            "placeholder": "​",
            "style": "IPY_MODEL_54a14aea696545069f13f6830e732a12",
            "value": " 1.56k/1.56k [00:00&lt;00:00, 40.1kB/s]"
          }
        },
        "ef652f8e3b82446e87152fbf2cff8f72": {
          "model_module": "@jupyter-widgets/base",
          "model_name": "LayoutModel",
          "model_module_version": "1.2.0",
          "state": {
            "_model_module": "@jupyter-widgets/base",
            "_model_module_version": "1.2.0",
            "_model_name": "LayoutModel",
            "_view_count": null,
            "_view_module": "@jupyter-widgets/base",
            "_view_module_version": "1.2.0",
            "_view_name": "LayoutView",
            "align_content": null,
            "align_items": null,
            "align_self": null,
            "border": null,
            "bottom": null,
            "display": null,
            "flex": null,
            "flex_flow": null,
            "grid_area": null,
            "grid_auto_columns": null,
            "grid_auto_flow": null,
            "grid_auto_rows": null,
            "grid_column": null,
            "grid_gap": null,
            "grid_row": null,
            "grid_template_areas": null,
            "grid_template_columns": null,
            "grid_template_rows": null,
            "height": null,
            "justify_content": null,
            "justify_items": null,
            "left": null,
            "margin": null,
            "max_height": null,
            "max_width": null,
            "min_height": null,
            "min_width": null,
            "object_fit": null,
            "object_position": null,
            "order": null,
            "overflow": null,
            "overflow_x": null,
            "overflow_y": null,
            "padding": null,
            "right": null,
            "top": null,
            "visibility": null,
            "width": null
          }
        },
        "c2f74e741ed6435d9db96edb4d52a4f6": {
          "model_module": "@jupyter-widgets/base",
          "model_name": "LayoutModel",
          "model_module_version": "1.2.0",
          "state": {
            "_model_module": "@jupyter-widgets/base",
            "_model_module_version": "1.2.0",
            "_model_name": "LayoutModel",
            "_view_count": null,
            "_view_module": "@jupyter-widgets/base",
            "_view_module_version": "1.2.0",
            "_view_name": "LayoutView",
            "align_content": null,
            "align_items": null,
            "align_self": null,
            "border": null,
            "bottom": null,
            "display": null,
            "flex": null,
            "flex_flow": null,
            "grid_area": null,
            "grid_auto_columns": null,
            "grid_auto_flow": null,
            "grid_auto_rows": null,
            "grid_column": null,
            "grid_gap": null,
            "grid_row": null,
            "grid_template_areas": null,
            "grid_template_columns": null,
            "grid_template_rows": null,
            "height": null,
            "justify_content": null,
            "justify_items": null,
            "left": null,
            "margin": null,
            "max_height": null,
            "max_width": null,
            "min_height": null,
            "min_width": null,
            "object_fit": null,
            "object_position": null,
            "order": null,
            "overflow": null,
            "overflow_x": null,
            "overflow_y": null,
            "padding": null,
            "right": null,
            "top": null,
            "visibility": null,
            "width": null
          }
        },
        "7dd3b2996d654a29944e2ec341e56650": {
          "model_module": "@jupyter-widgets/controls",
          "model_name": "DescriptionStyleModel",
          "model_module_version": "1.5.0",
          "state": {
            "_model_module": "@jupyter-widgets/controls",
            "_model_module_version": "1.5.0",
            "_model_name": "DescriptionStyleModel",
            "_view_count": null,
            "_view_module": "@jupyter-widgets/base",
            "_view_module_version": "1.2.0",
            "_view_name": "StyleView",
            "description_width": ""
          }
        },
        "5e33f5119e5e4fbfb5709a677f076ea9": {
          "model_module": "@jupyter-widgets/base",
          "model_name": "LayoutModel",
          "model_module_version": "1.2.0",
          "state": {
            "_model_module": "@jupyter-widgets/base",
            "_model_module_version": "1.2.0",
            "_model_name": "LayoutModel",
            "_view_count": null,
            "_view_module": "@jupyter-widgets/base",
            "_view_module_version": "1.2.0",
            "_view_name": "LayoutView",
            "align_content": null,
            "align_items": null,
            "align_self": null,
            "border": null,
            "bottom": null,
            "display": null,
            "flex": null,
            "flex_flow": null,
            "grid_area": null,
            "grid_auto_columns": null,
            "grid_auto_flow": null,
            "grid_auto_rows": null,
            "grid_column": null,
            "grid_gap": null,
            "grid_row": null,
            "grid_template_areas": null,
            "grid_template_columns": null,
            "grid_template_rows": null,
            "height": null,
            "justify_content": null,
            "justify_items": null,
            "left": null,
            "margin": null,
            "max_height": null,
            "max_width": null,
            "min_height": null,
            "min_width": null,
            "object_fit": null,
            "object_position": null,
            "order": null,
            "overflow": null,
            "overflow_x": null,
            "overflow_y": null,
            "padding": null,
            "right": null,
            "top": null,
            "visibility": null,
            "width": null
          }
        },
        "457c602e451a482f884e17198c40cfcb": {
          "model_module": "@jupyter-widgets/controls",
          "model_name": "ProgressStyleModel",
          "model_module_version": "1.5.0",
          "state": {
            "_model_module": "@jupyter-widgets/controls",
            "_model_module_version": "1.5.0",
            "_model_name": "ProgressStyleModel",
            "_view_count": null,
            "_view_module": "@jupyter-widgets/base",
            "_view_module_version": "1.2.0",
            "_view_name": "StyleView",
            "bar_color": null,
            "description_width": ""
          }
        },
        "bb50d168a4064f35900d7ed87ac64f09": {
          "model_module": "@jupyter-widgets/base",
          "model_name": "LayoutModel",
          "model_module_version": "1.2.0",
          "state": {
            "_model_module": "@jupyter-widgets/base",
            "_model_module_version": "1.2.0",
            "_model_name": "LayoutModel",
            "_view_count": null,
            "_view_module": "@jupyter-widgets/base",
            "_view_module_version": "1.2.0",
            "_view_name": "LayoutView",
            "align_content": null,
            "align_items": null,
            "align_self": null,
            "border": null,
            "bottom": null,
            "display": null,
            "flex": null,
            "flex_flow": null,
            "grid_area": null,
            "grid_auto_columns": null,
            "grid_auto_flow": null,
            "grid_auto_rows": null,
            "grid_column": null,
            "grid_gap": null,
            "grid_row": null,
            "grid_template_areas": null,
            "grid_template_columns": null,
            "grid_template_rows": null,
            "height": null,
            "justify_content": null,
            "justify_items": null,
            "left": null,
            "margin": null,
            "max_height": null,
            "max_width": null,
            "min_height": null,
            "min_width": null,
            "object_fit": null,
            "object_position": null,
            "order": null,
            "overflow": null,
            "overflow_x": null,
            "overflow_y": null,
            "padding": null,
            "right": null,
            "top": null,
            "visibility": null,
            "width": null
          }
        },
        "54a14aea696545069f13f6830e732a12": {
          "model_module": "@jupyter-widgets/controls",
          "model_name": "DescriptionStyleModel",
          "model_module_version": "1.5.0",
          "state": {
            "_model_module": "@jupyter-widgets/controls",
            "_model_module_version": "1.5.0",
            "_model_name": "DescriptionStyleModel",
            "_view_count": null,
            "_view_module": "@jupyter-widgets/base",
            "_view_module_version": "1.2.0",
            "_view_name": "StyleView",
            "description_width": ""
          }
        },
        "1cf13314703541e399c96e6301c189a9": {
          "model_module": "@jupyter-widgets/controls",
          "model_name": "HBoxModel",
          "model_module_version": "1.5.0",
          "state": {
            "_dom_classes": [],
            "_model_module": "@jupyter-widgets/controls",
            "_model_module_version": "1.5.0",
            "_model_name": "HBoxModel",
            "_view_count": null,
            "_view_module": "@jupyter-widgets/controls",
            "_view_module_version": "1.5.0",
            "_view_name": "HBoxView",
            "box_style": "",
            "children": [
              "IPY_MODEL_29d0a37e139c4e8e8ced822a1997c1a3",
              "IPY_MODEL_ecfb701efb6547d2a809ba2201c4934b",
              "IPY_MODEL_9b1da531669146e1a7b2447d30294020"
            ],
            "layout": "IPY_MODEL_6bc9e09a74f94ff2b67e4c7522458057"
          }
        },
        "29d0a37e139c4e8e8ced822a1997c1a3": {
          "model_module": "@jupyter-widgets/controls",
          "model_name": "HTMLModel",
          "model_module_version": "1.5.0",
          "state": {
            "_dom_classes": [],
            "_model_module": "@jupyter-widgets/controls",
            "_model_module_version": "1.5.0",
            "_model_name": "HTMLModel",
            "_view_count": null,
            "_view_module": "@jupyter-widgets/controls",
            "_view_module_version": "1.5.0",
            "_view_name": "HTMLView",
            "description": "",
            "description_tooltip": null,
            "layout": "IPY_MODEL_a41918df90cf4a40a4b8c1cf3245d9b2",
            "placeholder": "​",
            "style": "IPY_MODEL_bd7c30c1fb894580a780bb87986d925d",
            "value": "Downloading readme: 100%"
          }
        },
        "ecfb701efb6547d2a809ba2201c4934b": {
          "model_module": "@jupyter-widgets/controls",
          "model_name": "FloatProgressModel",
          "model_module_version": "1.5.0",
          "state": {
            "_dom_classes": [],
            "_model_module": "@jupyter-widgets/controls",
            "_model_module_version": "1.5.0",
            "_model_name": "FloatProgressModel",
            "_view_count": null,
            "_view_module": "@jupyter-widgets/controls",
            "_view_module_version": "1.5.0",
            "_view_name": "ProgressView",
            "bar_style": "success",
            "description": "",
            "description_tooltip": null,
            "layout": "IPY_MODEL_5c9f83214f614923bb833f175f1c2fa2",
            "max": 7438,
            "min": 0,
            "orientation": "horizontal",
            "style": "IPY_MODEL_0b52cde46a9c4641a8884eb8f4723c0a",
            "value": 7438
          }
        },
        "9b1da531669146e1a7b2447d30294020": {
          "model_module": "@jupyter-widgets/controls",
          "model_name": "HTMLModel",
          "model_module_version": "1.5.0",
          "state": {
            "_dom_classes": [],
            "_model_module": "@jupyter-widgets/controls",
            "_model_module_version": "1.5.0",
            "_model_name": "HTMLModel",
            "_view_count": null,
            "_view_module": "@jupyter-widgets/controls",
            "_view_module_version": "1.5.0",
            "_view_name": "HTMLView",
            "description": "",
            "description_tooltip": null,
            "layout": "IPY_MODEL_5d7357adaed848f885a50a980728ffb7",
            "placeholder": "​",
            "style": "IPY_MODEL_fcd445e7e33a4496bf9a90e647299640",
            "value": " 7.44k/7.44k [00:00&lt;00:00, 104kB/s]"
          }
        },
        "6bc9e09a74f94ff2b67e4c7522458057": {
          "model_module": "@jupyter-widgets/base",
          "model_name": "LayoutModel",
          "model_module_version": "1.2.0",
          "state": {
            "_model_module": "@jupyter-widgets/base",
            "_model_module_version": "1.2.0",
            "_model_name": "LayoutModel",
            "_view_count": null,
            "_view_module": "@jupyter-widgets/base",
            "_view_module_version": "1.2.0",
            "_view_name": "LayoutView",
            "align_content": null,
            "align_items": null,
            "align_self": null,
            "border": null,
            "bottom": null,
            "display": null,
            "flex": null,
            "flex_flow": null,
            "grid_area": null,
            "grid_auto_columns": null,
            "grid_auto_flow": null,
            "grid_auto_rows": null,
            "grid_column": null,
            "grid_gap": null,
            "grid_row": null,
            "grid_template_areas": null,
            "grid_template_columns": null,
            "grid_template_rows": null,
            "height": null,
            "justify_content": null,
            "justify_items": null,
            "left": null,
            "margin": null,
            "max_height": null,
            "max_width": null,
            "min_height": null,
            "min_width": null,
            "object_fit": null,
            "object_position": null,
            "order": null,
            "overflow": null,
            "overflow_x": null,
            "overflow_y": null,
            "padding": null,
            "right": null,
            "top": null,
            "visibility": null,
            "width": null
          }
        },
        "a41918df90cf4a40a4b8c1cf3245d9b2": {
          "model_module": "@jupyter-widgets/base",
          "model_name": "LayoutModel",
          "model_module_version": "1.2.0",
          "state": {
            "_model_module": "@jupyter-widgets/base",
            "_model_module_version": "1.2.0",
            "_model_name": "LayoutModel",
            "_view_count": null,
            "_view_module": "@jupyter-widgets/base",
            "_view_module_version": "1.2.0",
            "_view_name": "LayoutView",
            "align_content": null,
            "align_items": null,
            "align_self": null,
            "border": null,
            "bottom": null,
            "display": null,
            "flex": null,
            "flex_flow": null,
            "grid_area": null,
            "grid_auto_columns": null,
            "grid_auto_flow": null,
            "grid_auto_rows": null,
            "grid_column": null,
            "grid_gap": null,
            "grid_row": null,
            "grid_template_areas": null,
            "grid_template_columns": null,
            "grid_template_rows": null,
            "height": null,
            "justify_content": null,
            "justify_items": null,
            "left": null,
            "margin": null,
            "max_height": null,
            "max_width": null,
            "min_height": null,
            "min_width": null,
            "object_fit": null,
            "object_position": null,
            "order": null,
            "overflow": null,
            "overflow_x": null,
            "overflow_y": null,
            "padding": null,
            "right": null,
            "top": null,
            "visibility": null,
            "width": null
          }
        },
        "bd7c30c1fb894580a780bb87986d925d": {
          "model_module": "@jupyter-widgets/controls",
          "model_name": "DescriptionStyleModel",
          "model_module_version": "1.5.0",
          "state": {
            "_model_module": "@jupyter-widgets/controls",
            "_model_module_version": "1.5.0",
            "_model_name": "DescriptionStyleModel",
            "_view_count": null,
            "_view_module": "@jupyter-widgets/base",
            "_view_module_version": "1.2.0",
            "_view_name": "StyleView",
            "description_width": ""
          }
        },
        "5c9f83214f614923bb833f175f1c2fa2": {
          "model_module": "@jupyter-widgets/base",
          "model_name": "LayoutModel",
          "model_module_version": "1.2.0",
          "state": {
            "_model_module": "@jupyter-widgets/base",
            "_model_module_version": "1.2.0",
            "_model_name": "LayoutModel",
            "_view_count": null,
            "_view_module": "@jupyter-widgets/base",
            "_view_module_version": "1.2.0",
            "_view_name": "LayoutView",
            "align_content": null,
            "align_items": null,
            "align_self": null,
            "border": null,
            "bottom": null,
            "display": null,
            "flex": null,
            "flex_flow": null,
            "grid_area": null,
            "grid_auto_columns": null,
            "grid_auto_flow": null,
            "grid_auto_rows": null,
            "grid_column": null,
            "grid_gap": null,
            "grid_row": null,
            "grid_template_areas": null,
            "grid_template_columns": null,
            "grid_template_rows": null,
            "height": null,
            "justify_content": null,
            "justify_items": null,
            "left": null,
            "margin": null,
            "max_height": null,
            "max_width": null,
            "min_height": null,
            "min_width": null,
            "object_fit": null,
            "object_position": null,
            "order": null,
            "overflow": null,
            "overflow_x": null,
            "overflow_y": null,
            "padding": null,
            "right": null,
            "top": null,
            "visibility": null,
            "width": null
          }
        },
        "0b52cde46a9c4641a8884eb8f4723c0a": {
          "model_module": "@jupyter-widgets/controls",
          "model_name": "ProgressStyleModel",
          "model_module_version": "1.5.0",
          "state": {
            "_model_module": "@jupyter-widgets/controls",
            "_model_module_version": "1.5.0",
            "_model_name": "ProgressStyleModel",
            "_view_count": null,
            "_view_module": "@jupyter-widgets/base",
            "_view_module_version": "1.2.0",
            "_view_name": "StyleView",
            "bar_color": null,
            "description_width": ""
          }
        },
        "5d7357adaed848f885a50a980728ffb7": {
          "model_module": "@jupyter-widgets/base",
          "model_name": "LayoutModel",
          "model_module_version": "1.2.0",
          "state": {
            "_model_module": "@jupyter-widgets/base",
            "_model_module_version": "1.2.0",
            "_model_name": "LayoutModel",
            "_view_count": null,
            "_view_module": "@jupyter-widgets/base",
            "_view_module_version": "1.2.0",
            "_view_name": "LayoutView",
            "align_content": null,
            "align_items": null,
            "align_self": null,
            "border": null,
            "bottom": null,
            "display": null,
            "flex": null,
            "flex_flow": null,
            "grid_area": null,
            "grid_auto_columns": null,
            "grid_auto_flow": null,
            "grid_auto_rows": null,
            "grid_column": null,
            "grid_gap": null,
            "grid_row": null,
            "grid_template_areas": null,
            "grid_template_columns": null,
            "grid_template_rows": null,
            "height": null,
            "justify_content": null,
            "justify_items": null,
            "left": null,
            "margin": null,
            "max_height": null,
            "max_width": null,
            "min_height": null,
            "min_width": null,
            "object_fit": null,
            "object_position": null,
            "order": null,
            "overflow": null,
            "overflow_x": null,
            "overflow_y": null,
            "padding": null,
            "right": null,
            "top": null,
            "visibility": null,
            "width": null
          }
        },
        "fcd445e7e33a4496bf9a90e647299640": {
          "model_module": "@jupyter-widgets/controls",
          "model_name": "DescriptionStyleModel",
          "model_module_version": "1.5.0",
          "state": {
            "_model_module": "@jupyter-widgets/controls",
            "_model_module_version": "1.5.0",
            "_model_name": "DescriptionStyleModel",
            "_view_count": null,
            "_view_module": "@jupyter-widgets/base",
            "_view_module_version": "1.2.0",
            "_view_name": "StyleView",
            "description_width": ""
          }
        },
        "dc4c3086a5384b2ea6c1267990ef7a70": {
          "model_module": "@jupyter-widgets/controls",
          "model_name": "HBoxModel",
          "model_module_version": "1.5.0",
          "state": {
            "_dom_classes": [],
            "_model_module": "@jupyter-widgets/controls",
            "_model_module_version": "1.5.0",
            "_model_name": "HBoxModel",
            "_view_count": null,
            "_view_module": "@jupyter-widgets/controls",
            "_view_module_version": "1.5.0",
            "_view_name": "HBoxView",
            "box_style": "",
            "children": [
              "IPY_MODEL_5916f6ac0cc4410abe03cd3e3753d5fa",
              "IPY_MODEL_4f9a5c2ce6de4cd5a22c931fea942d65",
              "IPY_MODEL_c5ee1270edb84d7eae8e7484a24c4e24"
            ],
            "layout": "IPY_MODEL_fb84b0cc6795484b90eead517553296e"
          }
        },
        "5916f6ac0cc4410abe03cd3e3753d5fa": {
          "model_module": "@jupyter-widgets/controls",
          "model_name": "HTMLModel",
          "model_module_version": "1.5.0",
          "state": {
            "_dom_classes": [],
            "_model_module": "@jupyter-widgets/controls",
            "_model_module_version": "1.5.0",
            "_model_name": "HTMLModel",
            "_view_count": null,
            "_view_module": "@jupyter-widgets/controls",
            "_view_module_version": "1.5.0",
            "_view_name": "HTMLView",
            "description": "",
            "description_tooltip": null,
            "layout": "IPY_MODEL_6146c106260e465681abab04ee41bf91",
            "placeholder": "​",
            "style": "IPY_MODEL_c3168eeb705c4d51b8ce65691102fc62",
            "value": "Downloading data: 100%"
          }
        },
        "4f9a5c2ce6de4cd5a22c931fea942d65": {
          "model_module": "@jupyter-widgets/controls",
          "model_name": "FloatProgressModel",
          "model_module_version": "1.5.0",
          "state": {
            "_dom_classes": [],
            "_model_module": "@jupyter-widgets/controls",
            "_model_module_version": "1.5.0",
            "_model_name": "FloatProgressModel",
            "_view_count": null,
            "_view_module": "@jupyter-widgets/controls",
            "_view_module_version": "1.5.0",
            "_view_name": "ProgressView",
            "bar_style": "success",
            "description": "",
            "description_tooltip": null,
            "layout": "IPY_MODEL_a5d6fd0ce5be41c9b94c603a2db00812",
            "max": 7302821,
            "min": 0,
            "orientation": "horizontal",
            "style": "IPY_MODEL_010f0aaaddae4a75b0b8473235e48d23",
            "value": 7302821
          }
        },
        "c5ee1270edb84d7eae8e7484a24c4e24": {
          "model_module": "@jupyter-widgets/controls",
          "model_name": "HTMLModel",
          "model_module_version": "1.5.0",
          "state": {
            "_dom_classes": [],
            "_model_module": "@jupyter-widgets/controls",
            "_model_module_version": "1.5.0",
            "_model_name": "HTMLModel",
            "_view_count": null,
            "_view_module": "@jupyter-widgets/controls",
            "_view_module_version": "1.5.0",
            "_view_name": "HTMLView",
            "description": "",
            "description_tooltip": null,
            "layout": "IPY_MODEL_4aff9f5d08cb485893fe05e07178fb60",
            "placeholder": "​",
            "style": "IPY_MODEL_5cb8fd7614354930b1ef48cc2e71f238",
            "value": " 7.30M/7.30M [00:00&lt;00:00, 32.0MB/s]"
          }
        },
        "fb84b0cc6795484b90eead517553296e": {
          "model_module": "@jupyter-widgets/base",
          "model_name": "LayoutModel",
          "model_module_version": "1.2.0",
          "state": {
            "_model_module": "@jupyter-widgets/base",
            "_model_module_version": "1.2.0",
            "_model_name": "LayoutModel",
            "_view_count": null,
            "_view_module": "@jupyter-widgets/base",
            "_view_module_version": "1.2.0",
            "_view_name": "LayoutView",
            "align_content": null,
            "align_items": null,
            "align_self": null,
            "border": null,
            "bottom": null,
            "display": null,
            "flex": null,
            "flex_flow": null,
            "grid_area": null,
            "grid_auto_columns": null,
            "grid_auto_flow": null,
            "grid_auto_rows": null,
            "grid_column": null,
            "grid_gap": null,
            "grid_row": null,
            "grid_template_areas": null,
            "grid_template_columns": null,
            "grid_template_rows": null,
            "height": null,
            "justify_content": null,
            "justify_items": null,
            "left": null,
            "margin": null,
            "max_height": null,
            "max_width": null,
            "min_height": null,
            "min_width": null,
            "object_fit": null,
            "object_position": null,
            "order": null,
            "overflow": null,
            "overflow_x": null,
            "overflow_y": null,
            "padding": null,
            "right": null,
            "top": null,
            "visibility": null,
            "width": null
          }
        },
        "6146c106260e465681abab04ee41bf91": {
          "model_module": "@jupyter-widgets/base",
          "model_name": "LayoutModel",
          "model_module_version": "1.2.0",
          "state": {
            "_model_module": "@jupyter-widgets/base",
            "_model_module_version": "1.2.0",
            "_model_name": "LayoutModel",
            "_view_count": null,
            "_view_module": "@jupyter-widgets/base",
            "_view_module_version": "1.2.0",
            "_view_name": "LayoutView",
            "align_content": null,
            "align_items": null,
            "align_self": null,
            "border": null,
            "bottom": null,
            "display": null,
            "flex": null,
            "flex_flow": null,
            "grid_area": null,
            "grid_auto_columns": null,
            "grid_auto_flow": null,
            "grid_auto_rows": null,
            "grid_column": null,
            "grid_gap": null,
            "grid_row": null,
            "grid_template_areas": null,
            "grid_template_columns": null,
            "grid_template_rows": null,
            "height": null,
            "justify_content": null,
            "justify_items": null,
            "left": null,
            "margin": null,
            "max_height": null,
            "max_width": null,
            "min_height": null,
            "min_width": null,
            "object_fit": null,
            "object_position": null,
            "order": null,
            "overflow": null,
            "overflow_x": null,
            "overflow_y": null,
            "padding": null,
            "right": null,
            "top": null,
            "visibility": null,
            "width": null
          }
        },
        "c3168eeb705c4d51b8ce65691102fc62": {
          "model_module": "@jupyter-widgets/controls",
          "model_name": "DescriptionStyleModel",
          "model_module_version": "1.5.0",
          "state": {
            "_model_module": "@jupyter-widgets/controls",
            "_model_module_version": "1.5.0",
            "_model_name": "DescriptionStyleModel",
            "_view_count": null,
            "_view_module": "@jupyter-widgets/base",
            "_view_module_version": "1.2.0",
            "_view_name": "StyleView",
            "description_width": ""
          }
        },
        "a5d6fd0ce5be41c9b94c603a2db00812": {
          "model_module": "@jupyter-widgets/base",
          "model_name": "LayoutModel",
          "model_module_version": "1.2.0",
          "state": {
            "_model_module": "@jupyter-widgets/base",
            "_model_module_version": "1.2.0",
            "_model_name": "LayoutModel",
            "_view_count": null,
            "_view_module": "@jupyter-widgets/base",
            "_view_module_version": "1.2.0",
            "_view_name": "LayoutView",
            "align_content": null,
            "align_items": null,
            "align_self": null,
            "border": null,
            "bottom": null,
            "display": null,
            "flex": null,
            "flex_flow": null,
            "grid_area": null,
            "grid_auto_columns": null,
            "grid_auto_flow": null,
            "grid_auto_rows": null,
            "grid_column": null,
            "grid_gap": null,
            "grid_row": null,
            "grid_template_areas": null,
            "grid_template_columns": null,
            "grid_template_rows": null,
            "height": null,
            "justify_content": null,
            "justify_items": null,
            "left": null,
            "margin": null,
            "max_height": null,
            "max_width": null,
            "min_height": null,
            "min_width": null,
            "object_fit": null,
            "object_position": null,
            "order": null,
            "overflow": null,
            "overflow_x": null,
            "overflow_y": null,
            "padding": null,
            "right": null,
            "top": null,
            "visibility": null,
            "width": null
          }
        },
        "010f0aaaddae4a75b0b8473235e48d23": {
          "model_module": "@jupyter-widgets/controls",
          "model_name": "ProgressStyleModel",
          "model_module_version": "1.5.0",
          "state": {
            "_model_module": "@jupyter-widgets/controls",
            "_model_module_version": "1.5.0",
            "_model_name": "ProgressStyleModel",
            "_view_count": null,
            "_view_module": "@jupyter-widgets/base",
            "_view_module_version": "1.2.0",
            "_view_name": "StyleView",
            "bar_color": null,
            "description_width": ""
          }
        },
        "4aff9f5d08cb485893fe05e07178fb60": {
          "model_module": "@jupyter-widgets/base",
          "model_name": "LayoutModel",
          "model_module_version": "1.2.0",
          "state": {
            "_model_module": "@jupyter-widgets/base",
            "_model_module_version": "1.2.0",
            "_model_name": "LayoutModel",
            "_view_count": null,
            "_view_module": "@jupyter-widgets/base",
            "_view_module_version": "1.2.0",
            "_view_name": "LayoutView",
            "align_content": null,
            "align_items": null,
            "align_self": null,
            "border": null,
            "bottom": null,
            "display": null,
            "flex": null,
            "flex_flow": null,
            "grid_area": null,
            "grid_auto_columns": null,
            "grid_auto_flow": null,
            "grid_auto_rows": null,
            "grid_column": null,
            "grid_gap": null,
            "grid_row": null,
            "grid_template_areas": null,
            "grid_template_columns": null,
            "grid_template_rows": null,
            "height": null,
            "justify_content": null,
            "justify_items": null,
            "left": null,
            "margin": null,
            "max_height": null,
            "max_width": null,
            "min_height": null,
            "min_width": null,
            "object_fit": null,
            "object_position": null,
            "order": null,
            "overflow": null,
            "overflow_x": null,
            "overflow_y": null,
            "padding": null,
            "right": null,
            "top": null,
            "visibility": null,
            "width": null
          }
        },
        "5cb8fd7614354930b1ef48cc2e71f238": {
          "model_module": "@jupyter-widgets/controls",
          "model_name": "DescriptionStyleModel",
          "model_module_version": "1.5.0",
          "state": {
            "_model_module": "@jupyter-widgets/controls",
            "_model_module_version": "1.5.0",
            "_model_name": "DescriptionStyleModel",
            "_view_count": null,
            "_view_module": "@jupyter-widgets/base",
            "_view_module_version": "1.2.0",
            "_view_name": "StyleView",
            "description_width": ""
          }
        },
        "f50589c1c33a45cc8f44e4e602b84e92": {
          "model_module": "@jupyter-widgets/controls",
          "model_name": "HBoxModel",
          "model_module_version": "1.5.0",
          "state": {
            "_dom_classes": [],
            "_model_module": "@jupyter-widgets/controls",
            "_model_module_version": "1.5.0",
            "_model_name": "HBoxModel",
            "_view_count": null,
            "_view_module": "@jupyter-widgets/controls",
            "_view_module_version": "1.5.0",
            "_view_name": "HBoxView",
            "box_style": "",
            "children": [
              "IPY_MODEL_ee9bafe43d0a43d29cfa0cb186ae2eb5",
              "IPY_MODEL_13ce422f5ac24bfe8dd97527ad0498e1",
              "IPY_MODEL_883ef729caa34ea8868e059db4727278"
            ],
            "layout": "IPY_MODEL_a808606110a0453f989bcd5129b2e844"
          }
        },
        "ee9bafe43d0a43d29cfa0cb186ae2eb5": {
          "model_module": "@jupyter-widgets/controls",
          "model_name": "HTMLModel",
          "model_module_version": "1.5.0",
          "state": {
            "_dom_classes": [],
            "_model_module": "@jupyter-widgets/controls",
            "_model_module_version": "1.5.0",
            "_model_name": "HTMLModel",
            "_view_count": null,
            "_view_module": "@jupyter-widgets/controls",
            "_view_module_version": "1.5.0",
            "_view_name": "HTMLView",
            "description": "",
            "description_tooltip": null,
            "layout": "IPY_MODEL_5fe05805e68c46d38593814cfd17eb45",
            "placeholder": "​",
            "style": "IPY_MODEL_309810d83cf04d7fb412237213bb4c71",
            "value": "Generating train split: 100%"
          }
        },
        "13ce422f5ac24bfe8dd97527ad0498e1": {
          "model_module": "@jupyter-widgets/controls",
          "model_name": "FloatProgressModel",
          "model_module_version": "1.5.0",
          "state": {
            "_dom_classes": [],
            "_model_module": "@jupyter-widgets/controls",
            "_model_module_version": "1.5.0",
            "_model_name": "FloatProgressModel",
            "_view_count": null,
            "_view_module": "@jupyter-widgets/controls",
            "_view_module_version": "1.5.0",
            "_view_name": "ProgressView",
            "bar_style": "",
            "description": "",
            "description_tooltip": null,
            "layout": "IPY_MODEL_ff77ebb985034cdf97819d69432a6068",
            "max": 29837,
            "min": 0,
            "orientation": "horizontal",
            "style": "IPY_MODEL_7f268cb461534fc8b21ff1c21828ad1f",
            "value": 29837
          }
        },
        "883ef729caa34ea8868e059db4727278": {
          "model_module": "@jupyter-widgets/controls",
          "model_name": "HTMLModel",
          "model_module_version": "1.5.0",
          "state": {
            "_dom_classes": [],
            "_model_module": "@jupyter-widgets/controls",
            "_model_module_version": "1.5.0",
            "_model_name": "HTMLModel",
            "_view_count": null,
            "_view_module": "@jupyter-widgets/controls",
            "_view_module_version": "1.5.0",
            "_view_name": "HTMLView",
            "description": "",
            "description_tooltip": null,
            "layout": "IPY_MODEL_262f740a39274c0e82023e15f360970b",
            "placeholder": "​",
            "style": "IPY_MODEL_39d9ce470ca44b419918e5d372ef35aa",
            "value": " 29837/29837 [00:17&lt;00:00, 4649.45 examples/s]"
          }
        },
        "a808606110a0453f989bcd5129b2e844": {
          "model_module": "@jupyter-widgets/base",
          "model_name": "LayoutModel",
          "model_module_version": "1.2.0",
          "state": {
            "_model_module": "@jupyter-widgets/base",
            "_model_module_version": "1.2.0",
            "_model_name": "LayoutModel",
            "_view_count": null,
            "_view_module": "@jupyter-widgets/base",
            "_view_module_version": "1.2.0",
            "_view_name": "LayoutView",
            "align_content": null,
            "align_items": null,
            "align_self": null,
            "border": null,
            "bottom": null,
            "display": null,
            "flex": null,
            "flex_flow": null,
            "grid_area": null,
            "grid_auto_columns": null,
            "grid_auto_flow": null,
            "grid_auto_rows": null,
            "grid_column": null,
            "grid_gap": null,
            "grid_row": null,
            "grid_template_areas": null,
            "grid_template_columns": null,
            "grid_template_rows": null,
            "height": null,
            "justify_content": null,
            "justify_items": null,
            "left": null,
            "margin": null,
            "max_height": null,
            "max_width": null,
            "min_height": null,
            "min_width": null,
            "object_fit": null,
            "object_position": null,
            "order": null,
            "overflow": null,
            "overflow_x": null,
            "overflow_y": null,
            "padding": null,
            "right": null,
            "top": null,
            "visibility": "hidden",
            "width": null
          }
        },
        "5fe05805e68c46d38593814cfd17eb45": {
          "model_module": "@jupyter-widgets/base",
          "model_name": "LayoutModel",
          "model_module_version": "1.2.0",
          "state": {
            "_model_module": "@jupyter-widgets/base",
            "_model_module_version": "1.2.0",
            "_model_name": "LayoutModel",
            "_view_count": null,
            "_view_module": "@jupyter-widgets/base",
            "_view_module_version": "1.2.0",
            "_view_name": "LayoutView",
            "align_content": null,
            "align_items": null,
            "align_self": null,
            "border": null,
            "bottom": null,
            "display": null,
            "flex": null,
            "flex_flow": null,
            "grid_area": null,
            "grid_auto_columns": null,
            "grid_auto_flow": null,
            "grid_auto_rows": null,
            "grid_column": null,
            "grid_gap": null,
            "grid_row": null,
            "grid_template_areas": null,
            "grid_template_columns": null,
            "grid_template_rows": null,
            "height": null,
            "justify_content": null,
            "justify_items": null,
            "left": null,
            "margin": null,
            "max_height": null,
            "max_width": null,
            "min_height": null,
            "min_width": null,
            "object_fit": null,
            "object_position": null,
            "order": null,
            "overflow": null,
            "overflow_x": null,
            "overflow_y": null,
            "padding": null,
            "right": null,
            "top": null,
            "visibility": null,
            "width": null
          }
        },
        "309810d83cf04d7fb412237213bb4c71": {
          "model_module": "@jupyter-widgets/controls",
          "model_name": "DescriptionStyleModel",
          "model_module_version": "1.5.0",
          "state": {
            "_model_module": "@jupyter-widgets/controls",
            "_model_module_version": "1.5.0",
            "_model_name": "DescriptionStyleModel",
            "_view_count": null,
            "_view_module": "@jupyter-widgets/base",
            "_view_module_version": "1.2.0",
            "_view_name": "StyleView",
            "description_width": ""
          }
        },
        "ff77ebb985034cdf97819d69432a6068": {
          "model_module": "@jupyter-widgets/base",
          "model_name": "LayoutModel",
          "model_module_version": "1.2.0",
          "state": {
            "_model_module": "@jupyter-widgets/base",
            "_model_module_version": "1.2.0",
            "_model_name": "LayoutModel",
            "_view_count": null,
            "_view_module": "@jupyter-widgets/base",
            "_view_module_version": "1.2.0",
            "_view_name": "LayoutView",
            "align_content": null,
            "align_items": null,
            "align_self": null,
            "border": null,
            "bottom": null,
            "display": null,
            "flex": null,
            "flex_flow": null,
            "grid_area": null,
            "grid_auto_columns": null,
            "grid_auto_flow": null,
            "grid_auto_rows": null,
            "grid_column": null,
            "grid_gap": null,
            "grid_row": null,
            "grid_template_areas": null,
            "grid_template_columns": null,
            "grid_template_rows": null,
            "height": null,
            "justify_content": null,
            "justify_items": null,
            "left": null,
            "margin": null,
            "max_height": null,
            "max_width": null,
            "min_height": null,
            "min_width": null,
            "object_fit": null,
            "object_position": null,
            "order": null,
            "overflow": null,
            "overflow_x": null,
            "overflow_y": null,
            "padding": null,
            "right": null,
            "top": null,
            "visibility": null,
            "width": null
          }
        },
        "7f268cb461534fc8b21ff1c21828ad1f": {
          "model_module": "@jupyter-widgets/controls",
          "model_name": "ProgressStyleModel",
          "model_module_version": "1.5.0",
          "state": {
            "_model_module": "@jupyter-widgets/controls",
            "_model_module_version": "1.5.0",
            "_model_name": "ProgressStyleModel",
            "_view_count": null,
            "_view_module": "@jupyter-widgets/base",
            "_view_module_version": "1.2.0",
            "_view_name": "StyleView",
            "bar_color": null,
            "description_width": ""
          }
        },
        "262f740a39274c0e82023e15f360970b": {
          "model_module": "@jupyter-widgets/base",
          "model_name": "LayoutModel",
          "model_module_version": "1.2.0",
          "state": {
            "_model_module": "@jupyter-widgets/base",
            "_model_module_version": "1.2.0",
            "_model_name": "LayoutModel",
            "_view_count": null,
            "_view_module": "@jupyter-widgets/base",
            "_view_module_version": "1.2.0",
            "_view_name": "LayoutView",
            "align_content": null,
            "align_items": null,
            "align_self": null,
            "border": null,
            "bottom": null,
            "display": null,
            "flex": null,
            "flex_flow": null,
            "grid_area": null,
            "grid_auto_columns": null,
            "grid_auto_flow": null,
            "grid_auto_rows": null,
            "grid_column": null,
            "grid_gap": null,
            "grid_row": null,
            "grid_template_areas": null,
            "grid_template_columns": null,
            "grid_template_rows": null,
            "height": null,
            "justify_content": null,
            "justify_items": null,
            "left": null,
            "margin": null,
            "max_height": null,
            "max_width": null,
            "min_height": null,
            "min_width": null,
            "object_fit": null,
            "object_position": null,
            "order": null,
            "overflow": null,
            "overflow_x": null,
            "overflow_y": null,
            "padding": null,
            "right": null,
            "top": null,
            "visibility": null,
            "width": null
          }
        },
        "39d9ce470ca44b419918e5d372ef35aa": {
          "model_module": "@jupyter-widgets/controls",
          "model_name": "DescriptionStyleModel",
          "model_module_version": "1.5.0",
          "state": {
            "_model_module": "@jupyter-widgets/controls",
            "_model_module_version": "1.5.0",
            "_model_name": "DescriptionStyleModel",
            "_view_count": null,
            "_view_module": "@jupyter-widgets/base",
            "_view_module_version": "1.2.0",
            "_view_name": "StyleView",
            "description_width": ""
          }
        },
        "3c65c128076444e6a77ad71cc69c7db4": {
          "model_module": "@jupyter-widgets/controls",
          "model_name": "HBoxModel",
          "model_module_version": "1.5.0",
          "state": {
            "_dom_classes": [],
            "_model_module": "@jupyter-widgets/controls",
            "_model_module_version": "1.5.0",
            "_model_name": "HBoxModel",
            "_view_count": null,
            "_view_module": "@jupyter-widgets/controls",
            "_view_module_version": "1.5.0",
            "_view_name": "HBoxView",
            "box_style": "",
            "children": [
              "IPY_MODEL_bdce038af1684853a4049de2d74007ca",
              "IPY_MODEL_0cbc33056a4f471a9892fc56e407637d",
              "IPY_MODEL_42ff2ed6fb16475abab0498c34149024"
            ],
            "layout": "IPY_MODEL_e28589437ca741ffad4ebb3bbe0b87d3"
          }
        },
        "bdce038af1684853a4049de2d74007ca": {
          "model_module": "@jupyter-widgets/controls",
          "model_name": "HTMLModel",
          "model_module_version": "1.5.0",
          "state": {
            "_dom_classes": [],
            "_model_module": "@jupyter-widgets/controls",
            "_model_module_version": "1.5.0",
            "_model_name": "HTMLModel",
            "_view_count": null,
            "_view_module": "@jupyter-widgets/controls",
            "_view_module_version": "1.5.0",
            "_view_name": "HTMLView",
            "description": "",
            "description_tooltip": null,
            "layout": "IPY_MODEL_5004c556eff24691b01ad1be1fdd73e2",
            "placeholder": "​",
            "style": "IPY_MODEL_591878e5d67f4b59b97294cce262a3a9",
            "value": "Generating test split: 100%"
          }
        },
        "0cbc33056a4f471a9892fc56e407637d": {
          "model_module": "@jupyter-widgets/controls",
          "model_name": "FloatProgressModel",
          "model_module_version": "1.5.0",
          "state": {
            "_dom_classes": [],
            "_model_module": "@jupyter-widgets/controls",
            "_model_module_version": "1.5.0",
            "_model_name": "FloatProgressModel",
            "_view_count": null,
            "_view_module": "@jupyter-widgets/controls",
            "_view_module_version": "1.5.0",
            "_view_name": "ProgressView",
            "bar_style": "",
            "description": "",
            "description_tooltip": null,
            "layout": "IPY_MODEL_d786a37c8ed44ac1a250a6087430c2ca",
            "max": 2985,
            "min": 0,
            "orientation": "horizontal",
            "style": "IPY_MODEL_65ab911129134d749c2f817d9f9fb6fa",
            "value": 2985
          }
        },
        "42ff2ed6fb16475abab0498c34149024": {
          "model_module": "@jupyter-widgets/controls",
          "model_name": "HTMLModel",
          "model_module_version": "1.5.0",
          "state": {
            "_dom_classes": [],
            "_model_module": "@jupyter-widgets/controls",
            "_model_module_version": "1.5.0",
            "_model_name": "HTMLModel",
            "_view_count": null,
            "_view_module": "@jupyter-widgets/controls",
            "_view_module_version": "1.5.0",
            "_view_name": "HTMLView",
            "description": "",
            "description_tooltip": null,
            "layout": "IPY_MODEL_37f5fa8c1a194cb5b96582db6e31b358",
            "placeholder": "​",
            "style": "IPY_MODEL_2c1fda1130e843e6a97450f457fac3fa",
            "value": " 2985/2985 [00:20&lt;00:00, 4450.19 examples/s]"
          }
        },
        "e28589437ca741ffad4ebb3bbe0b87d3": {
          "model_module": "@jupyter-widgets/base",
          "model_name": "LayoutModel",
          "model_module_version": "1.2.0",
          "state": {
            "_model_module": "@jupyter-widgets/base",
            "_model_module_version": "1.2.0",
            "_model_name": "LayoutModel",
            "_view_count": null,
            "_view_module": "@jupyter-widgets/base",
            "_view_module_version": "1.2.0",
            "_view_name": "LayoutView",
            "align_content": null,
            "align_items": null,
            "align_self": null,
            "border": null,
            "bottom": null,
            "display": null,
            "flex": null,
            "flex_flow": null,
            "grid_area": null,
            "grid_auto_columns": null,
            "grid_auto_flow": null,
            "grid_auto_rows": null,
            "grid_column": null,
            "grid_gap": null,
            "grid_row": null,
            "grid_template_areas": null,
            "grid_template_columns": null,
            "grid_template_rows": null,
            "height": null,
            "justify_content": null,
            "justify_items": null,
            "left": null,
            "margin": null,
            "max_height": null,
            "max_width": null,
            "min_height": null,
            "min_width": null,
            "object_fit": null,
            "object_position": null,
            "order": null,
            "overflow": null,
            "overflow_x": null,
            "overflow_y": null,
            "padding": null,
            "right": null,
            "top": null,
            "visibility": "hidden",
            "width": null
          }
        },
        "5004c556eff24691b01ad1be1fdd73e2": {
          "model_module": "@jupyter-widgets/base",
          "model_name": "LayoutModel",
          "model_module_version": "1.2.0",
          "state": {
            "_model_module": "@jupyter-widgets/base",
            "_model_module_version": "1.2.0",
            "_model_name": "LayoutModel",
            "_view_count": null,
            "_view_module": "@jupyter-widgets/base",
            "_view_module_version": "1.2.0",
            "_view_name": "LayoutView",
            "align_content": null,
            "align_items": null,
            "align_self": null,
            "border": null,
            "bottom": null,
            "display": null,
            "flex": null,
            "flex_flow": null,
            "grid_area": null,
            "grid_auto_columns": null,
            "grid_auto_flow": null,
            "grid_auto_rows": null,
            "grid_column": null,
            "grid_gap": null,
            "grid_row": null,
            "grid_template_areas": null,
            "grid_template_columns": null,
            "grid_template_rows": null,
            "height": null,
            "justify_content": null,
            "justify_items": null,
            "left": null,
            "margin": null,
            "max_height": null,
            "max_width": null,
            "min_height": null,
            "min_width": null,
            "object_fit": null,
            "object_position": null,
            "order": null,
            "overflow": null,
            "overflow_x": null,
            "overflow_y": null,
            "padding": null,
            "right": null,
            "top": null,
            "visibility": null,
            "width": null
          }
        },
        "591878e5d67f4b59b97294cce262a3a9": {
          "model_module": "@jupyter-widgets/controls",
          "model_name": "DescriptionStyleModel",
          "model_module_version": "1.5.0",
          "state": {
            "_model_module": "@jupyter-widgets/controls",
            "_model_module_version": "1.5.0",
            "_model_name": "DescriptionStyleModel",
            "_view_count": null,
            "_view_module": "@jupyter-widgets/base",
            "_view_module_version": "1.2.0",
            "_view_name": "StyleView",
            "description_width": ""
          }
        },
        "d786a37c8ed44ac1a250a6087430c2ca": {
          "model_module": "@jupyter-widgets/base",
          "model_name": "LayoutModel",
          "model_module_version": "1.2.0",
          "state": {
            "_model_module": "@jupyter-widgets/base",
            "_model_module_version": "1.2.0",
            "_model_name": "LayoutModel",
            "_view_count": null,
            "_view_module": "@jupyter-widgets/base",
            "_view_module_version": "1.2.0",
            "_view_name": "LayoutView",
            "align_content": null,
            "align_items": null,
            "align_self": null,
            "border": null,
            "bottom": null,
            "display": null,
            "flex": null,
            "flex_flow": null,
            "grid_area": null,
            "grid_auto_columns": null,
            "grid_auto_flow": null,
            "grid_auto_rows": null,
            "grid_column": null,
            "grid_gap": null,
            "grid_row": null,
            "grid_template_areas": null,
            "grid_template_columns": null,
            "grid_template_rows": null,
            "height": null,
            "justify_content": null,
            "justify_items": null,
            "left": null,
            "margin": null,
            "max_height": null,
            "max_width": null,
            "min_height": null,
            "min_width": null,
            "object_fit": null,
            "object_position": null,
            "order": null,
            "overflow": null,
            "overflow_x": null,
            "overflow_y": null,
            "padding": null,
            "right": null,
            "top": null,
            "visibility": null,
            "width": null
          }
        },
        "65ab911129134d749c2f817d9f9fb6fa": {
          "model_module": "@jupyter-widgets/controls",
          "model_name": "ProgressStyleModel",
          "model_module_version": "1.5.0",
          "state": {
            "_model_module": "@jupyter-widgets/controls",
            "_model_module_version": "1.5.0",
            "_model_name": "ProgressStyleModel",
            "_view_count": null,
            "_view_module": "@jupyter-widgets/base",
            "_view_module_version": "1.2.0",
            "_view_name": "StyleView",
            "bar_color": null,
            "description_width": ""
          }
        },
        "37f5fa8c1a194cb5b96582db6e31b358": {
          "model_module": "@jupyter-widgets/base",
          "model_name": "LayoutModel",
          "model_module_version": "1.2.0",
          "state": {
            "_model_module": "@jupyter-widgets/base",
            "_model_module_version": "1.2.0",
            "_model_name": "LayoutModel",
            "_view_count": null,
            "_view_module": "@jupyter-widgets/base",
            "_view_module_version": "1.2.0",
            "_view_name": "LayoutView",
            "align_content": null,
            "align_items": null,
            "align_self": null,
            "border": null,
            "bottom": null,
            "display": null,
            "flex": null,
            "flex_flow": null,
            "grid_area": null,
            "grid_auto_columns": null,
            "grid_auto_flow": null,
            "grid_auto_rows": null,
            "grid_column": null,
            "grid_gap": null,
            "grid_row": null,
            "grid_template_areas": null,
            "grid_template_columns": null,
            "grid_template_rows": null,
            "height": null,
            "justify_content": null,
            "justify_items": null,
            "left": null,
            "margin": null,
            "max_height": null,
            "max_width": null,
            "min_height": null,
            "min_width": null,
            "object_fit": null,
            "object_position": null,
            "order": null,
            "overflow": null,
            "overflow_x": null,
            "overflow_y": null,
            "padding": null,
            "right": null,
            "top": null,
            "visibility": null,
            "width": null
          }
        },
        "2c1fda1130e843e6a97450f457fac3fa": {
          "model_module": "@jupyter-widgets/controls",
          "model_name": "DescriptionStyleModel",
          "model_module_version": "1.5.0",
          "state": {
            "_model_module": "@jupyter-widgets/controls",
            "_model_module_version": "1.5.0",
            "_model_name": "DescriptionStyleModel",
            "_view_count": null,
            "_view_module": "@jupyter-widgets/base",
            "_view_module_version": "1.2.0",
            "_view_name": "StyleView",
            "description_width": ""
          }
        },
        "c8e495917a784d479a2e51115da0ca44": {
          "model_module": "@jupyter-widgets/controls",
          "model_name": "HBoxModel",
          "model_module_version": "1.5.0",
          "state": {
            "_dom_classes": [],
            "_model_module": "@jupyter-widgets/controls",
            "_model_module_version": "1.5.0",
            "_model_name": "HBoxModel",
            "_view_count": null,
            "_view_module": "@jupyter-widgets/controls",
            "_view_module_version": "1.5.0",
            "_view_name": "HBoxView",
            "box_style": "",
            "children": [
              "IPY_MODEL_dd8054a4ab894511b58d574caa014011",
              "IPY_MODEL_3db850fecbb24b148dc126462c75df78",
              "IPY_MODEL_c7a0f5706868440ebcfa08ea63b99e82"
            ],
            "layout": "IPY_MODEL_d8f5e3ecbc9a4f508e30c2e4e2cf76a1"
          }
        },
        "dd8054a4ab894511b58d574caa014011": {
          "model_module": "@jupyter-widgets/controls",
          "model_name": "HTMLModel",
          "model_module_version": "1.5.0",
          "state": {
            "_dom_classes": [],
            "_model_module": "@jupyter-widgets/controls",
            "_model_module_version": "1.5.0",
            "_model_name": "HTMLModel",
            "_view_count": null,
            "_view_module": "@jupyter-widgets/controls",
            "_view_module_version": "1.5.0",
            "_view_name": "HTMLView",
            "description": "",
            "description_tooltip": null,
            "layout": "IPY_MODEL_053392effd734a98a2b0a34c63e36ccd",
            "placeholder": "​",
            "style": "IPY_MODEL_09b8c1698bf842ca93e860f19c29bfb6",
            "value": "Generating validation split: 100%"
          }
        },
        "3db850fecbb24b148dc126462c75df78": {
          "model_module": "@jupyter-widgets/controls",
          "model_name": "FloatProgressModel",
          "model_module_version": "1.5.0",
          "state": {
            "_dom_classes": [],
            "_model_module": "@jupyter-widgets/controls",
            "_model_module_version": "1.5.0",
            "_model_name": "FloatProgressModel",
            "_view_count": null,
            "_view_module": "@jupyter-widgets/controls",
            "_view_module_version": "1.5.0",
            "_view_name": "ProgressView",
            "bar_style": "",
            "description": "",
            "description_tooltip": null,
            "layout": "IPY_MODEL_b8b9b7ba380a47b7b0d939e327f6ce30",
            "max": 4475,
            "min": 0,
            "orientation": "horizontal",
            "style": "IPY_MODEL_eb61d6d848904264940b2c25a751b64d",
            "value": 4475
          }
        },
        "c7a0f5706868440ebcfa08ea63b99e82": {
          "model_module": "@jupyter-widgets/controls",
          "model_name": "HTMLModel",
          "model_module_version": "1.5.0",
          "state": {
            "_dom_classes": [],
            "_model_module": "@jupyter-widgets/controls",
            "_model_module_version": "1.5.0",
            "_model_name": "HTMLModel",
            "_view_count": null,
            "_view_module": "@jupyter-widgets/controls",
            "_view_module_version": "1.5.0",
            "_view_name": "HTMLView",
            "description": "",
            "description_tooltip": null,
            "layout": "IPY_MODEL_e6bd8c8535944891bc84373905ac3a96",
            "placeholder": "​",
            "style": "IPY_MODEL_bfb1508fd8fd48dd92510d988c74b55a",
            "value": " 4475/4475 [00:19&lt;00:00, 4513.85 examples/s]"
          }
        },
        "d8f5e3ecbc9a4f508e30c2e4e2cf76a1": {
          "model_module": "@jupyter-widgets/base",
          "model_name": "LayoutModel",
          "model_module_version": "1.2.0",
          "state": {
            "_model_module": "@jupyter-widgets/base",
            "_model_module_version": "1.2.0",
            "_model_name": "LayoutModel",
            "_view_count": null,
            "_view_module": "@jupyter-widgets/base",
            "_view_module_version": "1.2.0",
            "_view_name": "LayoutView",
            "align_content": null,
            "align_items": null,
            "align_self": null,
            "border": null,
            "bottom": null,
            "display": null,
            "flex": null,
            "flex_flow": null,
            "grid_area": null,
            "grid_auto_columns": null,
            "grid_auto_flow": null,
            "grid_auto_rows": null,
            "grid_column": null,
            "grid_gap": null,
            "grid_row": null,
            "grid_template_areas": null,
            "grid_template_columns": null,
            "grid_template_rows": null,
            "height": null,
            "justify_content": null,
            "justify_items": null,
            "left": null,
            "margin": null,
            "max_height": null,
            "max_width": null,
            "min_height": null,
            "min_width": null,
            "object_fit": null,
            "object_position": null,
            "order": null,
            "overflow": null,
            "overflow_x": null,
            "overflow_y": null,
            "padding": null,
            "right": null,
            "top": null,
            "visibility": "hidden",
            "width": null
          }
        },
        "053392effd734a98a2b0a34c63e36ccd": {
          "model_module": "@jupyter-widgets/base",
          "model_name": "LayoutModel",
          "model_module_version": "1.2.0",
          "state": {
            "_model_module": "@jupyter-widgets/base",
            "_model_module_version": "1.2.0",
            "_model_name": "LayoutModel",
            "_view_count": null,
            "_view_module": "@jupyter-widgets/base",
            "_view_module_version": "1.2.0",
            "_view_name": "LayoutView",
            "align_content": null,
            "align_items": null,
            "align_self": null,
            "border": null,
            "bottom": null,
            "display": null,
            "flex": null,
            "flex_flow": null,
            "grid_area": null,
            "grid_auto_columns": null,
            "grid_auto_flow": null,
            "grid_auto_rows": null,
            "grid_column": null,
            "grid_gap": null,
            "grid_row": null,
            "grid_template_areas": null,
            "grid_template_columns": null,
            "grid_template_rows": null,
            "height": null,
            "justify_content": null,
            "justify_items": null,
            "left": null,
            "margin": null,
            "max_height": null,
            "max_width": null,
            "min_height": null,
            "min_width": null,
            "object_fit": null,
            "object_position": null,
            "order": null,
            "overflow": null,
            "overflow_x": null,
            "overflow_y": null,
            "padding": null,
            "right": null,
            "top": null,
            "visibility": null,
            "width": null
          }
        },
        "09b8c1698bf842ca93e860f19c29bfb6": {
          "model_module": "@jupyter-widgets/controls",
          "model_name": "DescriptionStyleModel",
          "model_module_version": "1.5.0",
          "state": {
            "_model_module": "@jupyter-widgets/controls",
            "_model_module_version": "1.5.0",
            "_model_name": "DescriptionStyleModel",
            "_view_count": null,
            "_view_module": "@jupyter-widgets/base",
            "_view_module_version": "1.2.0",
            "_view_name": "StyleView",
            "description_width": ""
          }
        },
        "b8b9b7ba380a47b7b0d939e327f6ce30": {
          "model_module": "@jupyter-widgets/base",
          "model_name": "LayoutModel",
          "model_module_version": "1.2.0",
          "state": {
            "_model_module": "@jupyter-widgets/base",
            "_model_module_version": "1.2.0",
            "_model_name": "LayoutModel",
            "_view_count": null,
            "_view_module": "@jupyter-widgets/base",
            "_view_module_version": "1.2.0",
            "_view_name": "LayoutView",
            "align_content": null,
            "align_items": null,
            "align_self": null,
            "border": null,
            "bottom": null,
            "display": null,
            "flex": null,
            "flex_flow": null,
            "grid_area": null,
            "grid_auto_columns": null,
            "grid_auto_flow": null,
            "grid_auto_rows": null,
            "grid_column": null,
            "grid_gap": null,
            "grid_row": null,
            "grid_template_areas": null,
            "grid_template_columns": null,
            "grid_template_rows": null,
            "height": null,
            "justify_content": null,
            "justify_items": null,
            "left": null,
            "margin": null,
            "max_height": null,
            "max_width": null,
            "min_height": null,
            "min_width": null,
            "object_fit": null,
            "object_position": null,
            "order": null,
            "overflow": null,
            "overflow_x": null,
            "overflow_y": null,
            "padding": null,
            "right": null,
            "top": null,
            "visibility": null,
            "width": null
          }
        },
        "eb61d6d848904264940b2c25a751b64d": {
          "model_module": "@jupyter-widgets/controls",
          "model_name": "ProgressStyleModel",
          "model_module_version": "1.5.0",
          "state": {
            "_model_module": "@jupyter-widgets/controls",
            "_model_module_version": "1.5.0",
            "_model_name": "ProgressStyleModel",
            "_view_count": null,
            "_view_module": "@jupyter-widgets/base",
            "_view_module_version": "1.2.0",
            "_view_name": "StyleView",
            "bar_color": null,
            "description_width": ""
          }
        },
        "e6bd8c8535944891bc84373905ac3a96": {
          "model_module": "@jupyter-widgets/base",
          "model_name": "LayoutModel",
          "model_module_version": "1.2.0",
          "state": {
            "_model_module": "@jupyter-widgets/base",
            "_model_module_version": "1.2.0",
            "_model_name": "LayoutModel",
            "_view_count": null,
            "_view_module": "@jupyter-widgets/base",
            "_view_module_version": "1.2.0",
            "_view_name": "LayoutView",
            "align_content": null,
            "align_items": null,
            "align_self": null,
            "border": null,
            "bottom": null,
            "display": null,
            "flex": null,
            "flex_flow": null,
            "grid_area": null,
            "grid_auto_columns": null,
            "grid_auto_flow": null,
            "grid_auto_rows": null,
            "grid_column": null,
            "grid_gap": null,
            "grid_row": null,
            "grid_template_areas": null,
            "grid_template_columns": null,
            "grid_template_rows": null,
            "height": null,
            "justify_content": null,
            "justify_items": null,
            "left": null,
            "margin": null,
            "max_height": null,
            "max_width": null,
            "min_height": null,
            "min_width": null,
            "object_fit": null,
            "object_position": null,
            "order": null,
            "overflow": null,
            "overflow_x": null,
            "overflow_y": null,
            "padding": null,
            "right": null,
            "top": null,
            "visibility": null,
            "width": null
          }
        },
        "bfb1508fd8fd48dd92510d988c74b55a": {
          "model_module": "@jupyter-widgets/controls",
          "model_name": "DescriptionStyleModel",
          "model_module_version": "1.5.0",
          "state": {
            "_model_module": "@jupyter-widgets/controls",
            "_model_module_version": "1.5.0",
            "_model_name": "DescriptionStyleModel",
            "_view_count": null,
            "_view_module": "@jupyter-widgets/base",
            "_view_module_version": "1.2.0",
            "_view_name": "StyleView",
            "description_width": ""
          }
        }
      }
    }
  },
  "cells": [
    {
      "cell_type": "markdown",
      "source": [
        "# **Evaluación del modelo GPT-2 en problemas matemáticos**"
      ],
      "metadata": {
        "id": "TCc-eCvY5opl"
      }
    },
    {
      "cell_type": "markdown",
      "source": [
        "# 1. Descargamos los paquetes necesarios:"
      ],
      "metadata": {
        "id": "Lipw3A6Iwof7"
      }
    },
    {
      "cell_type": "code",
      "execution_count": null,
      "metadata": {
        "id": "_q8nmVvcUBKj"
      },
      "outputs": [],
      "source": [
        "!pip install gpt-2-simple\n",
        "import gpt_2_simple as gpt2"
      ]
    },
    {
      "cell_type": "markdown",
      "source": [
        "Importamos el modelo de 124 Millones de parámetros:"
      ],
      "metadata": {
        "id": "FmoVr6uC3ura"
      }
    },
    {
      "cell_type": "code",
      "source": [
        "gpt2.download_gpt2(model_name=\"124M\")"
      ],
      "metadata": {
        "id": "YXy3kmhPUwHd",
        "colab": {
          "base_uri": "https://localhost:8080/"
        },
        "outputId": "bab54494-c408-4f10-d76a-c199aedffb86"
      },
      "execution_count": null,
      "outputs": [
        {
          "output_type": "stream",
          "name": "stderr",
          "text": [
            "Fetching checkpoint: 1.05Mit [00:00, 189Mit/s]                                                      \n",
            "Fetching encoder.json: 1.05Mit [00:00, 4.89Mit/s]\n",
            "Fetching hparams.json: 1.05Mit [00:00, 276Mit/s]                                                    \n",
            "Fetching model.ckpt.data-00000-of-00001: 498Mit [00:10, 45.5Mit/s]                                  \n",
            "Fetching model.ckpt.index: 1.05Mit [00:00, 116Mit/s]                                                \n",
            "Fetching model.ckpt.meta: 1.05Mit [00:00, 7.78Mit/s]\n",
            "Fetching vocab.bpe: 1.05Mit [00:00, 5.66Mit/s]\n"
          ]
        }
      ]
    },
    {
      "cell_type": "markdown",
      "source": [
        "Comenzamos con la construcción de los datos:"
      ],
      "metadata": {
        "id": "1Y6GO4Ig4Gue"
      }
    },
    {
      "cell_type": "code",
      "source": [
        "!pip install datasets evaluate transformers[sentencepiece]\n",
        "!wget https://github.com/crux82/squad-it/raw/master/SQuAD_it-train.json.gz\n",
        "!wget https://github.com/crux82/squad-it/raw/master/SQuAD_it-test.json.gz\n",
        "!gzip -dkv SQuAD_it-*.json.gz"
      ],
      "metadata": {
        "colab": {
          "base_uri": "https://localhost:8080/",
          "height": 1000
        },
        "id": "N9Wr0Vwk4KM9",
        "outputId": "dfb773c9-f489-4d0b-e963-267c59ff0f62"
      },
      "execution_count": null,
      "outputs": [
        {
          "output_type": "stream",
          "name": "stdout",
          "text": [
            "Looking in indexes: https://pypi.org/simple, https://us-python.pkg.dev/colab-wheels/public/simple/\n",
            "Collecting datasets\n",
            "  Downloading datasets-2.7.1-py3-none-any.whl (451 kB)\n",
            "\u001b[K     |████████████████████████████████| 451 kB 4.6 MB/s \n",
            "\u001b[?25hCollecting evaluate\n",
            "  Downloading evaluate-0.3.0-py3-none-any.whl (72 kB)\n",
            "\u001b[K     |████████████████████████████████| 72 kB 1.2 MB/s \n",
            "\u001b[?25hCollecting transformers[sentencepiece]\n",
            "  Downloading transformers-4.24.0-py3-none-any.whl (5.5 MB)\n",
            "\u001b[K     |████████████████████████████████| 5.5 MB 57.0 MB/s \n",
            "\u001b[?25hCollecting responses<0.19\n",
            "  Downloading responses-0.18.0-py3-none-any.whl (38 kB)\n",
            "Requirement already satisfied: dill<0.3.7 in /usr/local/lib/python3.7/dist-packages (from datasets) (0.3.6)\n",
            "Requirement already satisfied: pandas in /usr/local/lib/python3.7/dist-packages (from datasets) (1.3.5)\n",
            "Requirement already satisfied: tqdm>=4.62.1 in /usr/local/lib/python3.7/dist-packages (from datasets) (4.64.1)\n",
            "Collecting multiprocess\n",
            "  Downloading multiprocess-0.70.14-py37-none-any.whl (115 kB)\n",
            "\u001b[K     |████████████████████████████████| 115 kB 55.5 MB/s \n",
            "\u001b[?25hRequirement already satisfied: aiohttp in /usr/local/lib/python3.7/dist-packages (from datasets) (3.8.3)\n",
            "Requirement already satisfied: requests>=2.19.0 in /usr/local/lib/python3.7/dist-packages (from datasets) (2.23.0)\n",
            "Requirement already satisfied: pyarrow>=6.0.0 in /usr/local/lib/python3.7/dist-packages (from datasets) (9.0.0)\n",
            "Requirement already satisfied: numpy>=1.17 in /usr/local/lib/python3.7/dist-packages (from datasets) (1.21.6)\n",
            "Collecting xxhash\n",
            "  Downloading xxhash-3.1.0-cp37-cp37m-manylinux_2_17_x86_64.manylinux2014_x86_64.whl (212 kB)\n",
            "\u001b[K     |████████████████████████████████| 212 kB 43.1 MB/s \n",
            "\u001b[?25hRequirement already satisfied: pyyaml>=5.1 in /usr/local/lib/python3.7/dist-packages (from datasets) (6.0)\n",
            "Requirement already satisfied: packaging in /usr/local/lib/python3.7/dist-packages (from datasets) (21.3)\n",
            "Requirement already satisfied: fsspec[http]>=2021.11.1 in /usr/local/lib/python3.7/dist-packages (from datasets) (2022.11.0)\n",
            "Collecting huggingface-hub<1.0.0,>=0.2.0\n",
            "  Downloading huggingface_hub-0.11.1-py3-none-any.whl (182 kB)\n",
            "\u001b[K     |████████████████████████████████| 182 kB 52.4 MB/s \n",
            "\u001b[?25hRequirement already satisfied: importlib-metadata in /usr/local/lib/python3.7/dist-packages (from datasets) (4.13.0)\n",
            "Requirement already satisfied: yarl<2.0,>=1.0 in /usr/local/lib/python3.7/dist-packages (from aiohttp->datasets) (1.8.1)\n",
            "Requirement already satisfied: asynctest==0.13.0 in /usr/local/lib/python3.7/dist-packages (from aiohttp->datasets) (0.13.0)\n",
            "Requirement already satisfied: frozenlist>=1.1.1 in /usr/local/lib/python3.7/dist-packages (from aiohttp->datasets) (1.3.3)\n",
            "Requirement already satisfied: multidict<7.0,>=4.5 in /usr/local/lib/python3.7/dist-packages (from aiohttp->datasets) (6.0.2)\n",
            "Requirement already satisfied: async-timeout<5.0,>=4.0.0a3 in /usr/local/lib/python3.7/dist-packages (from aiohttp->datasets) (4.0.2)\n",
            "Requirement already satisfied: typing-extensions>=3.7.4 in /usr/local/lib/python3.7/dist-packages (from aiohttp->datasets) (4.1.1)\n",
            "Requirement already satisfied: charset-normalizer<3.0,>=2.0 in /usr/local/lib/python3.7/dist-packages (from aiohttp->datasets) (2.1.1)\n",
            "Requirement already satisfied: aiosignal>=1.1.2 in /usr/local/lib/python3.7/dist-packages (from aiohttp->datasets) (1.3.1)\n",
            "Requirement already satisfied: attrs>=17.3.0 in /usr/local/lib/python3.7/dist-packages (from aiohttp->datasets) (22.1.0)\n",
            "Requirement already satisfied: filelock in /usr/local/lib/python3.7/dist-packages (from huggingface-hub<1.0.0,>=0.2.0->datasets) (3.8.0)\n",
            "Requirement already satisfied: pyparsing!=3.0.5,>=2.0.2 in /usr/local/lib/python3.7/dist-packages (from packaging->datasets) (3.0.9)\n",
            "Requirement already satisfied: urllib3!=1.25.0,!=1.25.1,<1.26,>=1.21.1 in /usr/local/lib/python3.7/dist-packages (from requests>=2.19.0->datasets) (1.24.3)\n",
            "Requirement already satisfied: idna<3,>=2.5 in /usr/local/lib/python3.7/dist-packages (from requests>=2.19.0->datasets) (2.10)\n",
            "Requirement already satisfied: certifi>=2017.4.17 in /usr/local/lib/python3.7/dist-packages (from requests>=2.19.0->datasets) (2022.9.24)\n",
            "Requirement already satisfied: chardet<4,>=3.0.2 in /usr/local/lib/python3.7/dist-packages (from requests>=2.19.0->datasets) (3.0.4)\n",
            "Collecting urllib3!=1.25.0,!=1.25.1,<1.26,>=1.21.1\n",
            "  Downloading urllib3-1.25.11-py2.py3-none-any.whl (127 kB)\n",
            "\u001b[K     |████████████████████████████████| 127 kB 42.7 MB/s \n",
            "\u001b[?25hRequirement already satisfied: zipp>=0.5 in /usr/local/lib/python3.7/dist-packages (from importlib-metadata->datasets) (3.10.0)\n",
            "Requirement already satisfied: pytz>=2017.3 in /usr/local/lib/python3.7/dist-packages (from pandas->datasets) (2022.6)\n",
            "Requirement already satisfied: python-dateutil>=2.7.3 in /usr/local/lib/python3.7/dist-packages (from pandas->datasets) (2.8.2)\n",
            "Requirement already satisfied: six>=1.5 in /usr/local/lib/python3.7/dist-packages (from python-dateutil>=2.7.3->pandas->datasets) (1.15.0)\n",
            "Collecting tokenizers!=0.11.3,<0.14,>=0.11.1\n",
            "  Downloading tokenizers-0.13.2-cp37-cp37m-manylinux_2_17_x86_64.manylinux2014_x86_64.whl (7.6 MB)\n",
            "\u001b[K     |████████████████████████████████| 7.6 MB 47.7 MB/s \n",
            "\u001b[?25hRequirement already satisfied: regex!=2019.12.17 in /usr/local/lib/python3.7/dist-packages (from transformers[sentencepiece]) (2022.6.2)\n",
            "Requirement already satisfied: protobuf<=3.20.2 in /usr/local/lib/python3.7/dist-packages (from transformers[sentencepiece]) (3.19.6)\n",
            "Collecting sentencepiece!=0.1.92,>=0.1.91\n",
            "  Downloading sentencepiece-0.1.97-cp37-cp37m-manylinux_2_17_x86_64.manylinux2014_x86_64.whl (1.3 MB)\n",
            "\u001b[K     |████████████████████████████████| 1.3 MB 47.8 MB/s \n",
            "\u001b[?25hInstalling collected packages: urllib3, xxhash, tokenizers, responses, multiprocess, huggingface-hub, transformers, sentencepiece, datasets, evaluate\n",
            "  Attempting uninstall: urllib3\n",
            "    Found existing installation: urllib3 1.24.3\n",
            "    Uninstalling urllib3-1.24.3:\n",
            "      Successfully uninstalled urllib3-1.24.3\n",
            "Successfully installed datasets-2.7.1 evaluate-0.3.0 huggingface-hub-0.11.1 multiprocess-0.70.14 responses-0.18.0 sentencepiece-0.1.97 tokenizers-0.13.2 transformers-4.24.0 urllib3-1.25.11 xxhash-3.1.0\n"
          ]
        },
        {
          "output_type": "display_data",
          "data": {
            "application/vnd.colab-display-data+json": {
              "pip_warning": {
                "packages": [
                  "urllib3"
                ]
              }
            }
          },
          "metadata": {}
        },
        {
          "output_type": "stream",
          "name": "stdout",
          "text": [
            "--2022-11-30 00:21:00--  https://github.com/crux82/squad-it/raw/master/SQuAD_it-train.json.gz\n",
            "Resolving github.com (github.com)... 140.82.112.3\n",
            "Connecting to github.com (github.com)|140.82.112.3|:443... connected.\n",
            "HTTP request sent, awaiting response... 302 Found\n",
            "Location: https://raw.githubusercontent.com/crux82/squad-it/master/SQuAD_it-train.json.gz [following]\n",
            "--2022-11-30 00:21:01--  https://raw.githubusercontent.com/crux82/squad-it/master/SQuAD_it-train.json.gz\n",
            "Resolving raw.githubusercontent.com (raw.githubusercontent.com)... 185.199.108.133, 185.199.109.133, 185.199.110.133, ...\n",
            "Connecting to raw.githubusercontent.com (raw.githubusercontent.com)|185.199.108.133|:443... connected.\n",
            "HTTP request sent, awaiting response... 200 OK\n",
            "Length: 7725286 (7.4M) [application/octet-stream]\n",
            "Saving to: ‘SQuAD_it-train.json.gz’\n",
            "\n",
            "SQuAD_it-train.json 100%[===================>]   7.37M  --.-KB/s    in 0.08s   \n",
            "\n",
            "2022-11-30 00:21:01 (89.9 MB/s) - ‘SQuAD_it-train.json.gz’ saved [7725286/7725286]\n",
            "\n",
            "--2022-11-30 00:21:01--  https://github.com/crux82/squad-it/raw/master/SQuAD_it-test.json.gz\n",
            "Resolving github.com (github.com)... 140.82.112.3\n",
            "Connecting to github.com (github.com)|140.82.112.3|:443... connected.\n",
            "HTTP request sent, awaiting response... 302 Found\n",
            "Location: https://raw.githubusercontent.com/crux82/squad-it/master/SQuAD_it-test.json.gz [following]\n",
            "--2022-11-30 00:21:02--  https://raw.githubusercontent.com/crux82/squad-it/master/SQuAD_it-test.json.gz\n",
            "Resolving raw.githubusercontent.com (raw.githubusercontent.com)... 185.199.108.133, 185.199.109.133, 185.199.110.133, ...\n",
            "Connecting to raw.githubusercontent.com (raw.githubusercontent.com)|185.199.108.133|:443... connected.\n",
            "HTTP request sent, awaiting response... 200 OK\n",
            "Length: 1051245 (1.0M) [application/octet-stream]\n",
            "Saving to: ‘SQuAD_it-test.json.gz’\n",
            "\n",
            "SQuAD_it-test.json. 100%[===================>]   1.00M  --.-KB/s    in 0.05s   \n",
            "\n",
            "2022-11-30 00:21:02 (19.8 MB/s) - ‘SQuAD_it-test.json.gz’ saved [1051245/1051245]\n",
            "\n",
            "SQuAD_it-test.json.gz:\t 87.5% -- replaced with SQuAD_it-test.json\n",
            "SQuAD_it-train.json.gz:\t 82.3% -- replaced with SQuAD_it-train.json\n"
          ]
        }
      ]
    },
    {
      "cell_type": "markdown",
      "source": [
        "# 2) Cargamos los datos a usar "
      ],
      "metadata": {
        "id": "ao9Jx9qe6Njg"
      }
    },
    {
      "cell_type": "markdown",
      "source": [
        "Cargamos la función de HuggingFace 🤗 para descargar datos:"
      ],
      "metadata": {
        "id": "MDzd-sMz4Xiq"
      }
    },
    {
      "cell_type": "code",
      "source": [
        "### Datos de Math\n",
        "from datasets import load_dataset"
      ],
      "metadata": {
        "id": "EA_r4PXO4c1u"
      },
      "execution_count": null,
      "outputs": []
    },
    {
      "cell_type": "markdown",
      "source": [
        "Para este proyecto, usaremos la base de datos MathQA, la cual contiene una lista de preguntas de varias áreas del campo de las matemáticas, junto con su respectivo procedimiento, opciones posibles y respuesta: "
      ],
      "metadata": {
        "id": "T5Ka95nU4djA"
      }
    },
    {
      "cell_type": "code",
      "source": [
        "datos = load_dataset(\"math_qa\", split=\"train\")"
      ],
      "metadata": {
        "colab": {
          "base_uri": "https://localhost:8080/",
          "height": 296,
          "referenced_widgets": [
            "5ef88c69c34f491697dfc5a5808d1da3",
            "f2c97d5477d1428a97b39b8d68060c8e",
            "bbde46815a8c44c5abe5ba4aa6d90cf7",
            "d837ef3f56894eb5ac8ff92caba7a0e7",
            "6fc62beaf2d04663a0a0af2e2197d952",
            "cba0d94a3bf24ec994d4520547e6346b",
            "2fc48efcfb674cd5b2cb2ebc67c17caa",
            "b80db0b2deca4317aa7e9716755169c2",
            "fc8d7cd874424da38fa90a85e3d31804",
            "c9ce1c6c568045a98692025a161f3c3d",
            "cc81ab28f05846998862e82f9e86dd57",
            "d9573ed3da674d3ca84543aebad55153",
            "0ec6155331484d94a99a21505a93ef46",
            "1670fefc7c7a45e884a45cd905ce71c2",
            "4e6d116136dd4f86a58ebbef6bf568b7",
            "ef652f8e3b82446e87152fbf2cff8f72",
            "c2f74e741ed6435d9db96edb4d52a4f6",
            "7dd3b2996d654a29944e2ec341e56650",
            "5e33f5119e5e4fbfb5709a677f076ea9",
            "457c602e451a482f884e17198c40cfcb",
            "bb50d168a4064f35900d7ed87ac64f09",
            "54a14aea696545069f13f6830e732a12",
            "1cf13314703541e399c96e6301c189a9",
            "29d0a37e139c4e8e8ced822a1997c1a3",
            "ecfb701efb6547d2a809ba2201c4934b",
            "9b1da531669146e1a7b2447d30294020",
            "6bc9e09a74f94ff2b67e4c7522458057",
            "a41918df90cf4a40a4b8c1cf3245d9b2",
            "bd7c30c1fb894580a780bb87986d925d",
            "5c9f83214f614923bb833f175f1c2fa2",
            "0b52cde46a9c4641a8884eb8f4723c0a",
            "5d7357adaed848f885a50a980728ffb7",
            "fcd445e7e33a4496bf9a90e647299640",
            "dc4c3086a5384b2ea6c1267990ef7a70",
            "5916f6ac0cc4410abe03cd3e3753d5fa",
            "4f9a5c2ce6de4cd5a22c931fea942d65",
            "c5ee1270edb84d7eae8e7484a24c4e24",
            "fb84b0cc6795484b90eead517553296e",
            "6146c106260e465681abab04ee41bf91",
            "c3168eeb705c4d51b8ce65691102fc62",
            "a5d6fd0ce5be41c9b94c603a2db00812",
            "010f0aaaddae4a75b0b8473235e48d23",
            "4aff9f5d08cb485893fe05e07178fb60",
            "5cb8fd7614354930b1ef48cc2e71f238",
            "f50589c1c33a45cc8f44e4e602b84e92",
            "ee9bafe43d0a43d29cfa0cb186ae2eb5",
            "13ce422f5ac24bfe8dd97527ad0498e1",
            "883ef729caa34ea8868e059db4727278",
            "a808606110a0453f989bcd5129b2e844",
            "5fe05805e68c46d38593814cfd17eb45",
            "309810d83cf04d7fb412237213bb4c71",
            "ff77ebb985034cdf97819d69432a6068",
            "7f268cb461534fc8b21ff1c21828ad1f",
            "262f740a39274c0e82023e15f360970b",
            "39d9ce470ca44b419918e5d372ef35aa",
            "3c65c128076444e6a77ad71cc69c7db4",
            "bdce038af1684853a4049de2d74007ca",
            "0cbc33056a4f471a9892fc56e407637d",
            "42ff2ed6fb16475abab0498c34149024",
            "e28589437ca741ffad4ebb3bbe0b87d3",
            "5004c556eff24691b01ad1be1fdd73e2",
            "591878e5d67f4b59b97294cce262a3a9",
            "d786a37c8ed44ac1a250a6087430c2ca",
            "65ab911129134d749c2f817d9f9fb6fa",
            "37f5fa8c1a194cb5b96582db6e31b358",
            "2c1fda1130e843e6a97450f457fac3fa",
            "c8e495917a784d479a2e51115da0ca44",
            "dd8054a4ab894511b58d574caa014011",
            "3db850fecbb24b148dc126462c75df78",
            "c7a0f5706868440ebcfa08ea63b99e82",
            "d8f5e3ecbc9a4f508e30c2e4e2cf76a1",
            "053392effd734a98a2b0a34c63e36ccd",
            "09b8c1698bf842ca93e860f19c29bfb6",
            "b8b9b7ba380a47b7b0d939e327f6ce30",
            "eb61d6d848904264940b2c25a751b64d",
            "e6bd8c8535944891bc84373905ac3a96",
            "bfb1508fd8fd48dd92510d988c74b55a"
          ]
        },
        "id": "kG8YyoS-5Mxa",
        "outputId": "8878a9ae-d8c2-4f37-c60d-dfcbc954b2ec"
      },
      "execution_count": null,
      "outputs": [
        {
          "output_type": "display_data",
          "data": {
            "text/plain": [
              "Downloading builder script:   0%|          | 0.00/3.25k [00:00<?, ?B/s]"
            ],
            "application/vnd.jupyter.widget-view+json": {
              "version_major": 2,
              "version_minor": 0,
              "model_id": "5ef88c69c34f491697dfc5a5808d1da3"
            }
          },
          "metadata": {}
        },
        {
          "output_type": "display_data",
          "data": {
            "text/plain": [
              "Downloading metadata:   0%|          | 0.00/1.56k [00:00<?, ?B/s]"
            ],
            "application/vnd.jupyter.widget-view+json": {
              "version_major": 2,
              "version_minor": 0,
              "model_id": "d9573ed3da674d3ca84543aebad55153"
            }
          },
          "metadata": {}
        },
        {
          "output_type": "display_data",
          "data": {
            "text/plain": [
              "Downloading readme:   0%|          | 0.00/7.44k [00:00<?, ?B/s]"
            ],
            "application/vnd.jupyter.widget-view+json": {
              "version_major": 2,
              "version_minor": 0,
              "model_id": "1cf13314703541e399c96e6301c189a9"
            }
          },
          "metadata": {}
        },
        {
          "output_type": "stream",
          "name": "stdout",
          "text": [
            "Downloading and preparing dataset math_qa/default to /root/.cache/huggingface/datasets/math_qa/default/0.1.0/67fc1cc5d22b185002c6fd16e19e4d5215eae01fb04d656bed83204ba6ee55ff...\n"
          ]
        },
        {
          "output_type": "display_data",
          "data": {
            "text/plain": [
              "Downloading data:   0%|          | 0.00/7.30M [00:00<?, ?B/s]"
            ],
            "application/vnd.jupyter.widget-view+json": {
              "version_major": 2,
              "version_minor": 0,
              "model_id": "dc4c3086a5384b2ea6c1267990ef7a70"
            }
          },
          "metadata": {}
        },
        {
          "output_type": "display_data",
          "data": {
            "text/plain": [
              "Generating train split:   0%|          | 0/29837 [00:00<?, ? examples/s]"
            ],
            "application/vnd.jupyter.widget-view+json": {
              "version_major": 2,
              "version_minor": 0,
              "model_id": "f50589c1c33a45cc8f44e4e602b84e92"
            }
          },
          "metadata": {}
        },
        {
          "output_type": "display_data",
          "data": {
            "text/plain": [
              "Generating test split:   0%|          | 0/2985 [00:00<?, ? examples/s]"
            ],
            "application/vnd.jupyter.widget-view+json": {
              "version_major": 2,
              "version_minor": 0,
              "model_id": "3c65c128076444e6a77ad71cc69c7db4"
            }
          },
          "metadata": {}
        },
        {
          "output_type": "display_data",
          "data": {
            "text/plain": [
              "Generating validation split:   0%|          | 0/4475 [00:00<?, ? examples/s]"
            ],
            "application/vnd.jupyter.widget-view+json": {
              "version_major": 2,
              "version_minor": 0,
              "model_id": "c8e495917a784d479a2e51115da0ca44"
            }
          },
          "metadata": {}
        },
        {
          "output_type": "stream",
          "name": "stdout",
          "text": [
            "Dataset math_qa downloaded and prepared to /root/.cache/huggingface/datasets/math_qa/default/0.1.0/67fc1cc5d22b185002c6fd16e19e4d5215eae01fb04d656bed83204ba6ee55ff. Subsequent calls will reuse this data.\n"
          ]
        }
      ]
    },
    {
      "cell_type": "markdown",
      "source": [
        "# 3) Preparamos los datos para el entrenamiento de nuestro modelo"
      ],
      "metadata": {
        "id": "zpGjPiMP6Roo"
      }
    },
    {
      "cell_type": "markdown",
      "source": [
        "Para procesar los datos, haremos uso de la librería *Pandas*"
      ],
      "metadata": {
        "id": "gBoS-fFU61i3"
      }
    },
    {
      "cell_type": "code",
      "source": [
        "import pandas as pd"
      ],
      "metadata": {
        "id": "piPx10li68UV"
      },
      "execution_count": null,
      "outputs": []
    },
    {
      "cell_type": "markdown",
      "source": [
        "Convertimos nuestos datos en un DataFrame de *Pandas*:"
      ],
      "metadata": {
        "id": "HLN3kIJ87JHU"
      }
    },
    {
      "cell_type": "code",
      "source": [
        "datos=pd.DataFrame(datos)"
      ],
      "metadata": {
        "id": "4Kh8cLyf8F16"
      },
      "execution_count": null,
      "outputs": []
    },
    {
      "cell_type": "markdown",
      "source": [
        "Dado que tenemos las columnas *Problem*, *Rationale*, *options* y *correct*, procedemos a crear una nueva base de datos, la cual tendrá únicamente una columna, tal que cada entrada de esta columna sea un problema en el siguiente formato:\n",
        "\n",
        "* Planteamiento del problema:\n",
        "$$Problem: \\cdots $$\n",
        "$$Options: \\cdots $$\n",
        "\n",
        "* Solución del problema:\n",
        "$$Rationale: \\cdots $$\n",
        "$$Correct: \\cdots $$\n"
      ],
      "metadata": {
        "id": "hCVmsGzG8sfJ"
      }
    },
    {
      "cell_type": "markdown",
      "source": [
        "Un ejemplo de esto, sería el problema en la posición 1, el cual quedaria como sigue:\n",
        "\n",
        "**Planteamiento del problema:**\n",
        "Average age of students of an adult school is 40 years . 120 new students whose average age is 32 years joined the school . as a result the average age is decreased by 4 years . find the number of students of the school after joining of the new students.\n",
        "\n",
        "a ) 1200 , b ) 120 , c ) 360 , d ) 240 , e ) none of these\n",
        "\n",
        "**Solución del problema:** let the original no . of students be x . according to situation , 40 x + 120 * 32 = ( x + 120 ) 36 ⇒ x = 120 so , required no . of students after joining the new students = x + 120 = 240 . \n",
        "\n",
        "answer : d"
      ],
      "metadata": {
        "id": "k2WCRVOe9i2b"
      }
    },
    {
      "cell_type": "code",
      "source": [
        "datos_entrenamiento=[]\n",
        "for i in range(0,len(datos)):\n",
        "  datos_entrenamiento.append(\"Problem decription: \"+datos[\"Problem\"][i] + \" Possible options: \"+datos[\"options\"][i]+\n",
        "                             \". Solution: \"+ datos[\"Rationale\"][i])\n",
        "  print(\"Porcentaje de avance: \",i/(len(datos)-1)*100,\"%\")\n",
        "datos_entrenamiento  "
      ],
      "metadata": {
        "id": "DfGTkm_I-isc"
      },
      "execution_count": null,
      "outputs": []
    },
    {
      "cell_type": "markdown",
      "source": [
        "Una vez listos los dato, los exportamos a un archivo csv:"
      ],
      "metadata": {
        "id": "nJiIDTjH8i43"
      }
    },
    {
      "cell_type": "code",
      "source": [
        "datos_entrenamiento=pd.DataFrame(datos_entrenamiento)"
      ],
      "metadata": {
        "id": "Elk49n8fLS5P"
      },
      "execution_count": null,
      "outputs": []
    },
    {
      "cell_type": "code",
      "source": [
        "# Exporting data as a csv file\n",
        "datos_entrenamiento.to_csv('/content/datos_entrenamiento.csv',index=False)"
      ],
      "metadata": {
        "id": "FKbYVhjx89Dg"
      },
      "execution_count": null,
      "outputs": []
    },
    {
      "cell_type": "markdown",
      "source": [
        "# 4) Entrenamos el modelo:"
      ],
      "metadata": {
        "id": "jTxDLgy-6hv-"
      }
    },
    {
      "cell_type": "markdown",
      "source": [
        "Guardamos el nombre de los datos que acabamos de construir:"
      ],
      "metadata": {
        "id": "Fj3ckJBEDcxE"
      }
    },
    {
      "cell_type": "code",
      "source": [
        "file_name = \"datos_entrenamiento.csv\""
      ],
      "metadata": {
        "id": "B3cvLFtTVOQg"
      },
      "execution_count": null,
      "outputs": []
    },
    {
      "cell_type": "markdown",
      "source": [
        "Entrenamos el modelo:"
      ],
      "metadata": {
        "id": "_Dpe0rPTDkei"
      }
    },
    {
      "cell_type": "code",
      "source": [
        "sess = gpt2.start_tf_sess()\n",
        "\n",
        "gpt2.finetune(sess,\n",
        "              dataset=file_name,\n",
        "              model_name=\"124M\",\n",
        "              steps=200,\n",
        "              restore_from=\"fresh\",\n",
        "              run_name=\"run1\",\n",
        "              print_every=10,\n",
        "              sample_every=20,\n",
        "              save_every=20\n",
        "              )"
      ],
      "metadata": {
        "id": "1vqiN1qYVVNP",
        "colab": {
          "base_uri": "https://localhost:8080/"
        },
        "outputId": "c5530ba6-38e4-4add-b82d-10e94a07b57e"
      },
      "execution_count": null,
      "outputs": [
        {
          "output_type": "stream",
          "name": "stdout",
          "text": [
            "Loading checkpoint models/124M/model.ckpt\n",
            "Loading dataset...\n"
          ]
        },
        {
          "output_type": "stream",
          "name": "stderr",
          "text": [
            "100%|██████████| 1/1 [00:00<00:00,  2.86it/s]\n"
          ]
        },
        {
          "output_type": "stream",
          "name": "stdout",
          "text": [
            "dataset has 4653584 tokens\n",
            "Training...\n",
            "[10 | 27.64] loss=2.30 avg=2.30\n",
            "[20 | 49.45] loss=2.21 avg=2.26\n",
            "Saving checkpoint/run1/model-20\n",
            "======== SAMPLE 1 ========\n",
            " = ) 4 , 4 , 4 , 4 , 4 , 4 , 4 , 4 , 4 2 , 3 , 3, 3 ) 4 , 4 , 4 , 4 , 4 , 4 , 4 1, 3 , 3 , 3, 3, 3, 3, 3, 3 , 3, 3, 3, 3, 3 2, 3, 3, 3, 3, 3, 3 , 3, 3, 3, 3, 3, 3, 3 2, 3, 3, 3 2, 3, 3, 3, 3, 3, 3 2, 3, 3, 3, 3, 3, 3, 3, 3, 3, 3, 3, 3, 3, 3, 3, 3 2, 3 2, 3, 3, 3 3, 3, 3 3, 3, 3, 3, 3, 3, 3, 3, 3, 3, 3 2, 3, 3 2, 3 3, 3, 3, 3, 3, 3, 3, 3) 4 , 6 , 7 , 8 , 9 , 10 , 12 , 19 , 21 , 23 , 27 , 32 , 40 , 42 , 44 , 45 , 49 , 55 , 58 , 64 , 66 , 68 , 80 , 87 , 92 , 96 , 98 , 100 , 108 , 112, 119, 125 , 123 , 134 , 135 , 137 , 142 , 145 , 152 , 155 , 156 , 157 , 160 , 161 , 162 , 166 , 172 , 172, 173 , 173, 175, 177, 182, 185 , 187, 190 , 195 , 199 , 199 , 199, 199 , 195, 199 , 100 , 100, 100, 100, 100, 100, 100, 100, 100, 100, 100, 100, 100, 100, 100, 100, 100, 100, 100, 100, 100, 100, 100, 100, 100, 100, 100, 100, 100, 100, 100, 100, 100, 100, 100, 100, 100, 100, 100, 100, 100, 100, 100, 100, 100, 100, 100, 100, 100, 100, 100, 100, 100, 100, 100, 100, 100, 100, 100, 100, 100, 100, 100, 100, 100, 100, 100, 100, 100, 100, 100, 100, 100, 100, 100, 100, 100, 100, 100, 100, 100, 100, 100, 100, 100, 100, 100, 100, 100, 100, 100, 100, 100, 100, 100, 100, 100, 100, 100, 100, 100, 100, 100, 100, 100, 100, 100, 100, 100, 100, 100, 100, 100, 100, 100, 100, 100, 100, 100, 100, 100, 100, 100, 100, 100, 100, 100, 100, 100, 100, 100, 100, 100, 100, 100, 100, 100, 100, 100, 100, 100, 100, 100, 100, 100, 100, 100, 100, 100, 100, 100, 100, 100, 100, 100, 100, 100, 100, 100, 100, 100, 100, 100, 100, 100, 100, 100, 100, 100, 100, 100, 100, 100, 100, 100, 100, 100, 100, 100, 100, 100, 100, 100, 100, 100, 100, 100, 100, 100, 100, 100, 100, 100, 100, 100, 100, 100, 100, 100, 100, 100, 100, 100, 100, 100, 100, 100, 100, 100, 100, 100, 100- 100, 100- 100, 100, 100- 100, 100, 100, 200 200 200 200 200 200 200 200 200 200 200 200 200 200 200 200 200 200 200 200 200 200 200 200 200 200 200 200 200 200 200 200 200 200 200 200 200 200 200 200 200 200 200 200 200 200 200 200 200 200 200 200 200 200 200 200 200 200 200 200 200 200 200 200 200 200 200 200 200 200 200 200 200 200 200 200 200 200 200 200 200 200 200 200 200 200 200 200 200 200 200 200 200 200 200 200 200 200 200 200 200 200 200 200 200 200 200 200 200 200 200 200 200 200 200 200 200 200 200 200 200 200 200 200 200 200 200 200 200 200 200 200 200 200 200 200 200 200 200 200 200 200 200 200 200 200 200 200 200 200 200 200 200 200 200 200 200 200 200 200 200 200 200 200 200 200 200 200 200 200 200 200 200 200 200 200 200 200 200 200 200 200 200 200 200 200 200 200 200 200 200 200 200 200 200 200 200 200 200 200 200 200 200 200 200 200 200 200 200 200 200 200 200 200 200 200 200 200 200 200 200 200 200 200 200 200 200 200 200 200 200 200 200 200 200 200 200 200 200 200 200 200 200 200 200 200 200 200 200 200 200\n",
            "\n",
            "[30 | 89.69] loss=2.06 avg=2.19\n",
            "[40 | 113.38] loss=2.02 avg=2.15\n",
            "Saving checkpoint/run1/model-40\n"
          ]
        },
        {
          "output_type": "stream",
          "name": "stderr",
          "text": [
            "WARNING:tensorflow:From /usr/local/lib/python3.7/dist-packages/tensorflow/python/training/saver.py:1068: remove_checkpoint (from tensorflow.python.training.checkpoint_management) is deprecated and will be removed in a future version.\n",
            "Instructions for updating:\n",
            "Use standard file APIs to delete files with this prefix.\n"
          ]
        },
        {
          "output_type": "stream",
          "name": "stdout",
          "text": [
            "======== SAMPLE 1 ========\n",
            " – of 3,749 points . so, if we add 10 . then we get 8 , 8 , 6 , 5 , 5, 7 , 5 . or so it seems . , so . , if 3,744 = 5 , then we get 7 , so we get 7 , so we need to be careful with our numbers . , so we get 3 ,745 , so we need to remove 7 from the equation , and correct this equation to get 7 , so , you have to say , 6,525 * 10 * 2 = 7, so let 3 be the sum of the numbers : you have got 3 , but he can not remove 13 if he gets 3 , then he has got 2 , so we can remove 13 . , so then , the sum we got is 3,000 , but he needs to add 2 to the equation to get 3,000 x 2 . . , he subtracted 2 from , so there is no time to add more than 1 so that he gets 3,000 so that he can remove the total from , thus, he needs to subtract 1,000 , i. e . 0 , which requires 10 minutes , so , time to do so . . . i have got 1 minute and 7 minutes . so , i got 1 minute and 7 minutes . answer : a<|endoftext|>\n",
            "<|startoftext|>Problem decription: a man sold a house in the 3 years he sold the house . after 4 years , when he sold the home , he sold 100 percent more per year than he sold it in 4 years . he sold 100 percent more than he sold that in 5 years . he sold the home in 5 years to what is now $ 18,000 per year . if he sold his home in the 4 years he sold the house in , how many years will he sell the house in ? Possible options: a ) 6 , b ) 7 , c ) 15 , d ) 16 , e ) 17. Solution: \"explanation : 1 . he sold in 3 years to what was now $ 18,000 per year . he sold it in the 3 years that he sold it in . now he sold 100 percent more than he sold it in , so he sold him and then sold him in 5 years . then , the original house in 5 years was sold in the 3 years he sold it in . he bought the new home in 7 years and then sold his original house in 10 years . that would mean that if he sold he sold in the 3 years he sold this original house in 6 years . therefore , it is correct to say that he sold it in the 3 years that he sold the original house . he did not sell the original house in 6 hours and sold it in 9 hours so , that is , he sold this original house in 3 years . the amount he sold was $ 18,000 . . . now , in 7 years , he did not sell that first house . what is the original home in ? Possible options: a ) 12 , b ) 13 , c ) 14 , d ) 15 , e ) 16. Solution: \"a is the maximum price of a house . a is the price of that house , and a is the price of that house . . . . . the price of b if he sells it in 2 years , but he sells it in 3 years . b b has always sold in his 3 years . b is in the 2 years he sold so that b has always sold in his 2 years . b is the price of b if he sells it in 2 years .\" Possible options: a ) 5 , b ) 7 , c ) 6 , d ) 4 , e ) 4. Solution: a / b ( a - b ) = c a * b f = c a - b = c a - b = c ( a - b ) b = ( 15 - b ) ( a - b ) = c ( 7 - b ) ( a - b ) b = 4 ( b - b ) ( 7 + b ) = 4 ( ( 5 + b ) ) ( 5 + b ) = 4 ( 7 + b ) ( 5 + b ) = 7 ( b − b ) ( 9 - b ) b = 6 ( ( 5 + b ) ) ( 9 + b ) = 7 ( b - b ) ( 7 + b ) = 1 ) b = 6 ( b − b ) ( 9 + b ) = 1\"<|endoftext|>\n",
            "<|startoftext|>Problem decription: a man got an average of 25 salary with a salary of 500 . he was told that at one time he earned 5,000 , but at the end of the previous month he earned 4,000 . then he got 5,000 , when his salary was 300 , his salary is 300 less now and he was told that at the end of the previous month he earned 3,500 more than at the end of the previous month . if he earns at least 400 monthly , his average salary increased from\n",
            "\n",
            "[50 | 152.00] loss=1.91 avg=2.10\n",
            "[60 | 175.14] loss=1.86 avg=2.06\n",
            "Saving checkpoint/run1/model-60\n",
            "======== SAMPLE 1 ========\n",
            " ] 0.00 + 1.00 ⇒ 1.142025 × 11 + 1.00 ⇒ 1.21120 ⇒ 1.3140 ⇒ 1.4140 ⇒ 0.3140 ⇒ 2.0 ⇒ 1.2510 ⇒ 1.1 ⇒ 1410200 ⇒ 2.7 ⇒ 4.0 ⇒ 3.25 ⇒ 1.4 ⇒ 2.13100 ⇒ 3.10 ⇒ 2.27200 ⇒ 3.08400 ⇒ 2.14200 ⇒ 3.0240 ⇒ 3.08200 ⇒ 2.3200 ⇒ 3.0240 ⇒ 3.08200 ⇒ 3.22 ⇒ 3.0240 ⇒ 2.4200 ⇒ 3.08400 ⇒ 2.26300 ⇒ 3.08400 ⇒ 2.08400 ⇒ 3.08400 ⇒ 3.08400 ⇒ 3.08400 ⇒ 3.8200 ⇒ 3.08400 ⇒ 3.07400 ⇒ 3.08400 ⇒ 2.08400 ⇒ 3.08400 ⇒ 3.09600 ⇒ 3.11600 ⇒ 3.09700 ⇒ 3.07700 ⇒ 3.09700 ⇒ 3.08700 ⇒ 3.10300 ⇒ 3.08700 ⇒ 3.08700 ⇒ 3.11500 ⇒ 3.08700 ⇒ 3.09500 ⇒ 3.09750 ⇒ 3.09500 ⇒ 3.14500 ⇒ 2.33800 ⇒ 2.36700 ⇒ 2.29800 ⇒ 2.36700 ⇒ 2.37300 ⇒ 2.37700 ⇒ 2.34700 ⇒ 2.34700 ⇒ 2.36700 ⇒ 2.34700 ⇒ 2.36700 ⇒ 2.34667 10.16400 ⇒ 2.3200 ⇒ 2.37700 ⇒ 2.39700 ⇒ 2.38700 ⇒ 2.38700 ⇒ 2.39700 ⇒ 2.4200 ⇒ 2.39700 ⇒ 2.37700 ⇒ 2.39700 ⇒ 2.54100 ⇒ 2.64100 ⇒ 2.84200 ⇒ 2.98200 ⇒ 2.8700 ⇒ 2.8220 ⇒ 2.8700 ⇒ 2.98700 ⇒ 2.84200 ⇒ 2.54100 ⇒ 3.7200 ⇒ 2.93200 ⇒ 2.8700 ⇒ 2.84200 ⇒ 3.76200 9.24400 ⇒ 2.57600 ⇒ 2.59200 ⇒ 2.79400 ⇒ 4.09400 ⇒ 2.9200 ⇒ 3.77600 ⇒ 3.77700 ⇒ 4.099718 ⇒ 3.78800 ⇒ 4.099718 ⇒ 4.099718 ⇒ 3.79700 ⇒ 4.08600 ⇒ 4.099718 ⇒ 5.00200 ⇒ 3.85100 ⇒ 3.89400 ⇒ 4.08600 ⇒ 4.15200 ⇒ 5.00100 ⇒ 3.85100 ⇒ 3.89200 ⇒ 4.099718 ⇒ 5.00100 ⇒ 3.84100 ⇒ 3.89200 ⇒ 4.06200 ⇒ 4.54100 ⇒ 4.08600 ⇒ 5.00100 ⇒ 4.08600 ⇒ 5.04200 ⇒ 5.06400 ⇒ 5.10200 ⇒ 5.07400 ⇒ 4.09400 ⇒ 4.08300 ⇒ 4.09200 ⇒ 4.099718 ⇒ 5.00100 ⇒ 5.05600 ⇒ 5.04300 ⇒ 5.08600 ⇒ 4.14300 ⇒ 5.08600 ⇒ 4.14300 ⇒ 4.08600 ⇒ 4.07400 ⇒ 4.08600 ⇒ 5.04200 ⇒ 5.06800 ⇒ 5.08600 ⇒ 5.08600 ⇒ 4.09800 ⇒ 5.08600 ⇒ 4.09900 ⇒ 4.08600 ⇒ 5.06800 ⇒ 4.09900 ⇒ 4.05600 ⇒ 5.05600 ⇒ 5.05601 ⇒ 5.08600 ⇒ 5.09600 ⇒ 4.09700 ⇒ 5.08700 ⇒ 4.09700 ⇒ 4.08700 ⇒ 5.05700 ⇒ 5.08700 ⇒ 5.09700 ⇓� + > 0.50 ⇆ ⇆ ⇆ ≈ 0.40 ⇆ ⇆ ⇆ ⇆ ⇆ ⇆ �\n",
            "\n",
            "[70 | 213.43] loss=1.89 avg=2.03\n",
            "[80 | 236.69] loss=1.74 avg=1.99\n",
            "Saving checkpoint/run1/model-80\n",
            "======== SAMPLE 1 ========\n",
            " 150 ) . Solution: \"a is a constant between 1 / 100 and 5 / 18 is the number of numbers which is a multiple of a , hence a is a greater than a to a multiple of a as a equals a multiple of a . hence a is a greater than b a greater than a . hence b and a are a multiple of a . hence b is a multiple of a . hence a is a greater than a . hence a is a multiple of a . hence a is a multiple of a . hence a is a multiple of a . hence a is a greater than a . hence a is a million greater than a . hence a is 5 million greater than a . hence a is a million greater than a . hence a is a million greater than b a greater than a . hence a is a million greater than b . hence a is b a more than b a greater than b . hence a is b a more than b = a ( b ) a more than b = a ( b ) a less than b a - a = 1 b - b = 1 ( 1 / 100 + 1 / 18 ) a = 1 b - a = 1 ( 1 / 100 + 1 / 5 ) 1 / 36 = 1 - 36 b - b = 1 ( 1 / 100 + 1 / 6 ) 4 - a = 1 b - b = 2 ( a ) = 2 ( 2 + 2 ) a - a = - a - a = 4 b - a = 1 ( 1 - 4 ) 4 to be added - 1 a = 5 ( 1 / 100 ) a = 1 - 4 = 9 b - a = 1 ( 1 - 5 ) 2 - a = 1 - 2 - a = 3 a = 1 ( 1 - 2 ) 4 = 1 to be added - 1 a = 2 a = 1 - 2 b = 1 2 ( a - b ) = 1 - 1 ( b - a ) = 1 answer : an <|endoftext|>\n",
            "<|startoftext|>Problem decription: a student takes out a student loan in 5 years , $10000 at 6/11/11 ratio and $5050 at 1 year , $50 at 2 years and $100 at 3 years . if the rate of interest increases to $12 per year for the first 5 years , what is the remaining interest rate ? Possible options: a ) 1 % , b ) 2 % , c ) 3 % , d ) 4 % , e ) 5 %. Solution: \"solution c a 0 % c - 2 % c a - 5 % c - 2 % c a - 4 % c - 3 % c - 3 % c a - 2 % ( a 2.6 % ) c a - 2 % c a - - 4 % ( a 2.5 % ) c a - 2 % c b = a - 7 % b = a 2 % c % c = c - 17 10 : - 11 : a 2 % c = 11 % a 2 % c = 6 : - 1 : d 2 % c = 9 : - d = 100 : c b / c = ( 1 / 100 + 1 / 17 ) = a = 100 a b / c = 1 : a = 60 a b = 2 : b % = 1 a * 2 : - 2 : ( a - 2 * c ) = ( 1 / 100 ) = 200 c b / c = 1 : 25 % = ( 1 / 100 ) = 1 : 30 a b = 1 : 25 % = 100 * 2 : 20 : 3 ( a - 2 ) = 1 : 10 : c b = 4 : a + 1 : 30 % = 100 * 2 : 20 : 37 : c b / c = 2 : c a b / c = 2 : a = 2 : c 100 = 1 : 10 : c 6 : - 3 , a c = 1 : 35 : c a b / c = c b = 5 % c a b / c = 3 : a c = 36 = 2 : 5 : - 1 : c 6 : - 3 = 2 : 33 : 60 c a b / c = c : a = 2 : a c = 1 : a + 5 = 1 : - 1 : - 1 : - 1 : - 1 : - 1 : - 1 : c 7 : - 5 , a = 1 / 100 = 4 : 2 : a 2 : e 1 : 30 e d = 2 : 1 : 50 , cd = 1 : c . - 9 : a c + 1 : 20 in 4 * 18 = 2 c b = 3 : 30 : 100 e = d d e = 2 : - 2 : 5: e = 1 : 6 , e = 3 : 5 : - 6 : - e = 2 : - 9 = 2 : - 2 : e 2 : - 3 : - e = 2 : - 6 : c e = e 2 : 2 : 5 : a a = 2 : 2 e a = - 3 : e a = - e = 3 answer : e c<\n",
            "\n",
            "[90 | 275.10] loss=2.03 avg=2.00\n",
            "[100 | 298.38] loss=1.77 avg=1.97\n",
            "Saving checkpoint/run1/model-100\n",
            "======== SAMPLE 1 ========\n",
            " area e of a circle is : Possible options: a ) 27 , b ) 42 , c ) 38 , d ) 46 , e ) 51. Solution: \"let x be a , and x - 1 = 2 . now , the radius will be x . . . . then , the circumference of the circle is : . . . . x = 2 . the circumference of the circle = 2 . 2 + 2 = 2 x\"<|endoftext|>\n",
            "<|startoftext|>Problem decription: the diameter of a square is : Possible options: a ) 6 , b ) 3 , c ) 5 , d ) 2.5 , e ) 7. Solution: \"let the area of a square be x = 2 . then , ( x * 2 ) + [ ( 2 x + x ) / 2 ] = 4 . the area of a square is required to reach a value : 4 . x = [ x - 4 / 2 ] . 4 * ( x ) in 4 x = 3 ^ 3 = 1 . so 2.5 * 2.5 * 3 * 2.5 = 1 . 4 - 5 = 1 * 2.5 = 4 . hence , there must be 3.5 * ( x ) here , answer c .\"<|endoftext|>\n",
            "<|startoftext|>Problem decription: a train 200 m long crosses a platform 10 m high , thus the train crosses a train 75 m long . by how much did the train cross the platform ? Possible options: a ) 9 , b ) 20 , c ) 25 , d ) 80 , e ) 80. Solution: \"speed r = 200 / 10 / 100 = 5.2 : sec answer : e\"<|endoftext|>\n",
            "<|startoftext|>Problem decription: when 12 - - - - - - - + 12 - - - - - = 25 ? Possible options: a ) 9 , b ) 16 , c ) 18 , d ) 15 , e ) 20. Solution: a ) 24 , b ) 30 , c ) 12 , d ) 20 , e ) 28. Solution: \"( 12 - - - - - - - - - - - - - - 24 ) = - > 12 = 25 answer : e\"<|endoftext|>\n",
            "<|startoftext|>Problem decription: in a certain business where 80 % of the employees get the same salaries , in what percentage do the staff get the same bonuses . Possible options: a ) 0 , b ) 1 , c ) 4 , d ) 10 , e ) 16. Solution: \"this is the percentage of the staff getting the same salary as other % employees . when the employee gets 8 - - - - + 8 + - - + 20 - - - - 25 - - - 20 + - - - - 5 - - - - - - - = 8 * 70 = 96 which is how much of the staff got the same bonuses , when getting the same salary as others . this is the percentage of the staff getting the same bonuses when getting the same salary as each employee * 2 * 4 * 5 + 4 * 4 + 4 * 3 = 16 . so , in the percentage of the staff receiving the same bonuses at 2 - 3 * 5 / x = 96 . so , in the number of bonuses . the ratio of the staff getting the same salary as their respective numbers is 98 : 97 . therefore the ratio of the numbers is 2 : 8 : x . this is the ratio of the number of employees getting the same salary in what percentage = 96 . . . . . , by the numbers . . . . . . we have the ratio of the numbers = 98 - 96 - x = 96 ^ 5 = 64 x = 16 . so , the number is 16 . so the company employs 160 workers to get the same salary as other employees . now , the average number of employees gets 3 more to have them full time , and what exactly is the ratio of the employees getting 3 more to employ 160 or 160 - + 64 = 64 - 100 = 18 = 6.2 employees in a company get 3 more bonuses = 4 employees full time , and 3 more bonuses - 2 more on every salary = 6.2 employees full time = 8 employees full time + 8 employees with the same salary as other employees = 3 employees full time ; total amount of employees and employees - 2 employees total = 3 employees full time + 2 more on every salary in the ratio = 16 employees full time : total number of employees + 3 more on extra salary - 2 more on every salary in the ratio = 4 employees + 8 more on extra salary - 4 more on every salary in the ratio = 8 employees + 4 more on salaries salary : total amount of employees + employees - 2 employees = 4 employees = 6 more per person . total number of employees + employees who start with 6 - 3 and become employees of 6 : total number of employees with the same salary = 6 + 1 = 32 employees + 12 more on\n",
            "\n",
            "[110 | 336.43] loss=1.80 avg=1.96\n",
            "[120 | 359.72] loss=1.86 avg=1.95\n",
            "Saving checkpoint/run1/model-120\n",
            "======== SAMPLE 1 ========\n",
            " \"the number of integers of length 6.17 , is a compound number when divided by 9 , a compound number when divided by 6 , a compound number when divided by 5.16 , has a compound number when divided by 4.24 , and has a compound number when divided by 3.27 . we can now plot out a simple sum . the quotient of 5.16 * 6.17 * 9 = 2 / 5 . so the sum of 10 * 9 * 6.17 = 2 * 2 = ( 2 * 4.24 ) = 5.16 . sum will be : 5.16 * 6.17 * 8 = 9.8 * 6.17 = 18 * 2 = 12 + 3 = 2 * 2 = 3.27 . let the sum be : 2 / 5 . sum of 10 * 9 * 6.17 * 8 = 8 * 9 * 6.17 = 20 . . . . . sum of 5.16 * 6.17 * 8 = 10 * 8 * 2 = 8 * 5.16 and sum of 6.17 * 8 * 6.17 * 8 = 11 * 3 * 10 * 4 * 2 = 3.27 . the sum of 5.16 * 6.17 * 8 = 11 * 6.17 * 8 = 5.16 * 6.17 = 10 * 7 * 8 = 9 * 5.16 . so , 5.16 * 6.17 * 8 = 10 * 7 * 7 * 8 = 11 * 5 * 8 . the sum of both 5.16 * 6.17 * 8 and 9 * 6 . . . sum of 5* 8 * 6.17* 8 = 5 * 8 * 8 * 8 = 5.17 . for 5 * 8 * 9 * 5 * 8 and 9* 8 * 5 * 8 = 9 . total sum = 3 * 2 * 1 = 10 . . . sum of 5 * 8 * 8 * 8 * 9 * 10 = 10 * 7 * 6 * 8 = 4 . . . . sum of 5 * 8 * 8 * 8 * 7 * 8 = 6 * 4 * 8 * 8 = 6 * 8 * 3 * 8 . total sum = 7 * 8 * 8 * 7 * 8 * 8 = 21 / 10 . . . . sum of 5 * 8 * 8 * 8 * 8 * 8 = 19 . the sum = 7 * 8 * 8 * 7 * 8 = 30 / 10 . . . now , . . sum . = 1 * 7 * 9 * 8 * 6 * 4 * 7 * 8 = 2 / 5 . the difference between 2 * 7 * 9 * 8 * 1 and 1 * 7 * 9 * 8 is 7 * 9 * 9 * 8 . the two mean are 12 / 12 * 10 . . . . answer has been ' a ' b ' =<|endoftext|>\n",
            "<|startoftext|>Problem decription: what is the smallest integer between 0 and 4 ? Possible options: a ) 7 . , b ) 9 . , c ) 10 . , d ) 12 . , e ) 14 .. Solution: \"let the first integer be the number between 0 and 4 . then , let the remaining integer be the number between 2 and 8 . this will give us only an integer , 2 + 8 + 1 = 4 , so , we have to find it . this will give us all the integers ( 2 + 8 + 1 ) = 12 , so , we can now choose a and use this method . a is least 7 . a + b is 9 . a – b = 9 – b + 9 = 11 option a\"<|endoftext|>\n",
            "<|startoftext|>Problem decription: what is the largest number of positive integers that start with 0 , 9 , 0 and 12 , if all are integers less than 8 , or greater than 2 ? Possible options: a ) 10 , b ) 16 , c ) 20 , d ) 28 , e ) 34. Solution: \"this is straightforward enough and it should be understood that the first ' positive integer of this family is 5 , and the number of digits is less than 8 and less than 1 . 6 and less than 1 and less than 8 . . . the same is true of ' negative integers , so it is very correct to set ' negative integers ' on the top of a number of ' positive integers that start with 0 , 9 , 0 and 12 that are integers less than 2 . you can see that the largest numbers can both be integers less than 8 and less than 1 . . . let ' 5 be the least number of digits , so ' 5 ' + 8 ' + 12 ' + 4 and less than 1 and less than 8 . . . . ( 6 & less than 1 and less than 8 ) . . . ( 7 & less than 1 , and the average number in terms of digits less than 2 is 2 , so , we can even use 8 and less than 5 ) . . . ( 8 and less than 4 )\n",
            "\n",
            "[130 | 397.75] loss=1.87 avg=1.94\n",
            "[140 | 421.02] loss=1.68 avg=1.92\n",
            "Saving checkpoint/run1/model-140\n",
            "======== SAMPLE 1 ========\n",
            " eltext is :<|endoftext|>\n",
            "<|startoftext|>Problem decription: xy - xy and 9 - 9 ^ 2 are both in the positive integer area of square field 4 and area of square field ? Possible options: a ) 2 , b ) 16 , c ) 16 , d ) 16 , e ) 16. Solution: \"relative factor = ( 4 - 5 ) * ( 24 ) - ( 9 - 2 ) ^ 2 = 5 - ( 24 - 24 ) = > 4 - ( 24 ) = 24 answer is b .\"<|endoftext|>\n",
            "<|startoftext|>Problem decription: the area of each square kilometer is 25 square miles . find the length of each square kilometer of this square kilometer . Possible options: a ) 25 , b ) 40 , c ) 55 , d ) 60 , e ) 65. Solution: let the length , i . e . , of square kilometer = 5 square miles . answer : b<|endoftext|>\n",
            "<|startoftext|>Problem decription: the average weight of 3 children in a class of 8 is 6 kg and the average weight of the others is 5 kg . how much of the weight of 9 children would be added to the original class weight ? Possible options: a ) 18.5 kg , b ) 18.3 kg , c ) 15 kg , d ) 16.4 kg , e ) 14.5 kg. Solution: \"let number of children in school = 6 and we add weight of 9 children 2 ( number of ) we added 8 to 7 , so 3 = 6 = 15 kg answer : a\"<|endoftext|>\n",
            "<|startoftext|>Problem decription: in a school there are 25 students . if there are 5 students in the school and the average ( arithmetic mean ) of the 25 students is 3 , what is the minimum number of students in the school ? Possible options: a ) 21 , b ) 26 , c ) 25 , d ) 26 , e ) 32. Solution: \"required number of students = 5 * 25 = 10.5 + - 3 number of students = 50 therefore minimum number of students = 5 now lets add 5 students so 25 = - - > 25 = 20 the answer is d .\"<|endoftext|>\n",
            "<|startoftext|>Problem decription: find the price paid by a man who sells his home for rs . 4000 for two years at the rate of 25 % of what it cost to do so ? Possible options: a ) 3000 , b ) 8000 , c ) 972 , d ) 1200 , e ) 900. Solution: \"speed = 3000 m / s ; total work = 5000 ; required rate = 5000 + 10000 ; price paid = 100000 ; rate = 10000 - 10 = 5000 ; find the cost for selling the home for rs . 4000 + 1000 = rs 5000 * 1000000 = rs 6000 ; answer a\"<|endoftext|>\n",
            "<|startoftext|>Problem decription: let rs . 40 and rs . 50 buy a new car at 30 , 50 / 100 then 30 can buy it at 25 and 100 / 50 . the new car is selling for rs . 3000 ? Possible options: a ) 2400 , b ) 2900 , c ) 2000 , d ) 3000 , e ) 3000. Solution: \"let f = rs . 50 . . . . f = 30 * 3 * 1000 * 25 / 100 of 30 = rs . 50 . . . . . then 30 f = 30 * 100 * 20 = rs . 8000 . . . . . thus , f = 8000 / 50 = rs . 8000 . . . . answer : b\"<|endoftext|>\n",
            "<|startoftext|>Problem decription: if x is odd , x + 50 < 0 , and x = 50 , then x + 50 ( x + 52 ) is the least number Possible options: a ) 1 , b ) 2 , c ) 3 , d ) 4 , e ) 5. Solution: \"the least number of numbers from 1 to 100 is 50 . the odd number is x . if x = 0 , then ( 52 - x ) = 50 . therefore the odd number = ( 0 * 1 ) * 100 = 50 . so x = 50 x + ( 0 - 50 ) = 10 . therefore we can solve in 10 * 10 ( 5 ) = 50 = > 100 x = 50 so . the number = 20 therefore the number = 20 + 20 = 10 . answer : b<|endoftext|>\n",
            "<|startoftext|>Problem decription: in a population of 10,000 males , 12,000 females , and 11,000 children , 80 % of these children would be born as boys . the average age of these boys is equal to or exceeded by 10 % of the population . when a person born as a boy becomes a boy , how much\n",
            "\n",
            "[150 | 459.43] loss=1.77 avg=1.91\n",
            "[160 | 482.72] loss=1.72 avg=1.90\n",
            "Saving checkpoint/run1/model-160\n",
            "======== SAMPLE 1 ========\n",
            " bofors and then a bofors . the total number of ways which a two -way boat could be divided into bofors and a bofors is 22 . the numbers given by the cw and ccp for bofors are respectively 16 and 16 . find the number of ways in which a bofors could be divided into a w + a cw + a ccp . . . correct answer : a ) 15 ans . b ) 26 ans . c ) 21 ans . d ) 16 ans . e ) 29 ans . e ) 31 ans . f ) 23 ans . g ) 18 ans . h ) 26 ans . i ) 16 ans . ii ) 21 ans . j ) 31 ans . k ) 30 ans . k ) 12 c 1 f a + b j + c cp = 12 2 c 2 ( 1 d ) + ( 1 b ) = 13 2 b 3 c 1 j + m 3 d2 = 15 b 3 = 17 x + 15 = 21 5 c d = 21 c 2 = 22 a + d b 3 = 18 b 3 = 15 b 3 = 13 b + 21 c 2 = c + 23 = c 2 + d b = 30 = 15 + 21 = 13 c 2 = 15 + 23 = 19 a = 32 = 25 = 30 c 2 = 21 + 21 = 19 a = 21 the answer is d . .<|endoftext|>\n",
            "<|startoftext|>Problem decription: rs . 200000 is divided among 5 people with 4 children and rs . 107500 divided by 10 children , how much more than the sum of the numbers ? Possible options: a ) 30000 , b ) 40000 , c ) 50000 , d ) 60,000 , e ) 12,001. Solution: \"answer , 10000000 / 107500 = 20000 answer - d\"<|endoftext|>\n",
            "<|startoftext|>Problem decription: 2 girls who bought 6 apples a week at the store but only purchased 6 apples a week . what should the percent increase in average price of apples , if the average purchase made in a week are the sum of average monthly purchases for the 5 girls from last week - average purchasing number of apples for the 4 girls this week . Possible options: a ) 18 , b ) 30 , c ) 25 , d ) 35 , e ) 55. b<|endoftext|>\n",
            "<|startoftext|>Problem decription: in the game of chess , four ( 4 ) players are to be selected from each round and three ( 3 ) players are to be chosen from each round . what is the probability at which all six ( 2 ) possible positions of the four ( 4 ) chess players are at least equal , in real life ? Possible options: a ) 4 / 7 , b ) 2 / 2 , c ) 1 , d ) 1 / 6 , e ) 6 / 7 | 1 / 3. Solution: \"explanation : we can check the terms ' actual - p . a . and total - p . p . that they are not equal p = 3 p 2 = 4 p 4 = 1 / 8 p = 1 / 2 correct answer c\"<|endoftext|>\n",
            "<|startoftext|>Problem decription: a train is going in the same direction at a speed of 30 km / hr . the length of each train , in inches , is : Possible options: a ) 36 m , b ) 36 m / s , c ) 36 m , d ) 36 m , e ) 36 m . Solution: \"speed ratio = ( 30 ã — 20 ) / ( 36 ã — 17 ) = ( 35 ã — 3 ) / 100 = 36 m / s answer : d\"<|endoftext|>\n",
            "<|startoftext|>Problem decription: in an apartment complex , a single bedroom apartment has 9 bedrooms , and a two bedroom apartment has 6 bedrooms . find the average house price in units sold for $ 1,000 , with bedrooms + 4 bedrooms : Possible options: a ) $ 1,100 , b ) $ 1,100 , c ) $ 1,200 , d ) $ 1,350 , e ) $ 1,400. Solution: \"cost = x units = 1 x units price in units sold = $ 1,000 units = 1 x price of each bedroom = $ 1,400 average price in units sold = $ 1,400 × ( 1,400 ) = 1,200 units answer is b\"<|endoftext|>\n",
            "<|startoftext|>Problem decription: what ratio of units to be sold by a merchant at $ 1 % per unit , to sell on a ratio of 3 / $ 1 % . Possible options: a ) 1 , b ) 2 , c ) 3 , d ) 4 , e ) 5. Solution: if 3 / $ 1 % of $ 100 = $ 1,000 , what is the\n",
            "\n",
            "[170 | 521.08] loss=1.81 avg=1.89\n",
            "[180 | 544.34] loss=1.81 avg=1.89\n",
            "Saving checkpoint/run1/model-180\n",
            "======== SAMPLE 1 ========\n",
            "ription ) ? ii . Possible options: a ) 50 % , b ) 33 % , c ) 32 % , d ) 10 % , e ) 6 %. Solution: given : x + y / 3 x + a = 2 x y = 3 x + 4 y + a answer : a<|endoftext|>\n",
            "<|startoftext|>Problem decription: two trains are running on parallel lines , parallel in speed , in a straight line and parallel in length . in what time will the trains pass each other ? Possible options: a ) 30 sec , b ) 30 sec , c ) 35 sec , d ) 45 sec , e ) 75 sec. Solution: \"speed = 2 : 1 = 30 sec time for both of them = 30 sec = 15 sec . time for the other train as a whole = 15 sec time = 45 sec answer : option c\"<|endoftext|>\n",
            "<|startoftext|>Problem decription: a man sold his car at the discount price of $ 5 . the discount price was $ 10 . within 4 years , the profit was rs . 0.5 . if the seller sold his car 4 years earlier than the buyer , would the market value of the car be rs . 1000 more than what was sold ? Possible options: a ) rs . 5000 , b ) rs . 60000 , c ) rs . 6200 , d ) rs . 600 , e ) none. Solution: let x = the rate of profit . then , exp . ( x + exp . ( 4 x / 100 ) + x ) = 0 . exp . ( x + exp . ( 4 x / 100 ) + x ) . r = 0 . answer : a<|endoftext|>\n",
            "<|startoftext|>Problem decription: in 20 seconds , a train 160 meters long will pass a man standing at 60 kilometers per hour . at what distance will they meet ? Possible options: a ) 3 / 15 sec , b ) 3 / 12 sec , c ) 3 / 6 sec , d ) 1 / 5 sec , e ) 6 / 15 sec. Solution: \"speed = 60 + ( 60 - 180 ) * 5 / 18 = 5 c 5 c = 165 / 3 = 5 sec answer : d\"<|endoftext|>\n",
            "<|startoftext|>Problem decription: for any positive integer n , n > 0 . if n > 0 , then n<|endoftext|>\n",
            "<|startoftext|>Problem decription: on a certain planet , a certain population increased by 25 percent annually after 8 years . how many percent increased by that population after 9 years ? Possible options: a ) 7 / 3 , b ) 6 / 4 , c ) 16 / 7 , d ) 18 / 7 , e ) 21 / 7. Solution: \"explanation : \"population increased by 5 percentage point = 5 / 9 = 1 / 6 population increased by 25 % = 1 / 2 = 3 / 8 population increased by 3 % = 2 / 3 * 100 = 10 * 100 = 9 / 6 answer is c .\"<|endoftext|>\n",
            "<|startoftext|>Problem decription: if 1 + 4 * 5 + 16 / 17 + 52 / 17 - 56 / 17 = 28 Possible options: a ) 7 , b ) 8 , c ) 3 , d ) 2 , e ) 7. Solution: \"increase of 1 / 2 x 3 / 4 x 8 ( decrease of 1 / 2 x 5 / 4 / 5 + 1 / 2 x 5 / 4 + 1 / 2 x 5 / 4 = 8 answer : option a\"<|endoftext|>\n",
            "<|startoftext|>Problem decription: a sum of money such that $ 20 is spent at the rate of 4 / 15 % p . a . . what is that sum ? Possible options: a ) $ 20 , b ) $ 25 , c ) $ 30 , d ) $ 35 , e ) $ 40. Solution: \"total amount = p / r = 4 / 15 ( p / r ) r = 20 s . i . = 40 / 20 2 ( p / r ) = p / r r = 20 $ correct answer = b\"<|endoftext|>\n",
            "<|startoftext|>Problem decription: one can do a piece of work in 11 days without going down in the same direction or leaving the house either before or after 10 days . what is the probability that the work will be completed in the same time ? Possible options: a ) 3 / 9 , b ) 4 / 9 , c ) 2 / 9 , d ) 3 / 9 , e ) 6 / 9. Solution: \"work done = ( 1 - 9 / 11 ) days in 1 day = 20 days in 1 day the work = 11 work done = 10 days in 1 day the time left = 10 + 10 = 3 / 9 answer : c\"<|end\n",
            "\n",
            "[190 | 582.84] loss=1.62 avg=1.87\n",
            "[200 | 606.14] loss=1.85 avg=1.87\n",
            "Saving checkpoint/run1/model-200\n"
          ]
        }
      ]
    },
    {
      "cell_type": "markdown",
      "source": [
        "# 5) Usamos el modelo"
      ],
      "metadata": {
        "id": "BjfArQGx6pKI"
      }
    },
    {
      "cell_type": "code",
      "source": [
        "gpt2.generate(sess,run_name=\"run1\")"
      ],
      "metadata": {
        "id": "BM1F-W64XCPM",
        "colab": {
          "base_uri": "https://localhost:8080/"
        },
        "outputId": "7a354c8e-adb1-4359-dd64-06d5b8b31e49"
      },
      "execution_count": null,
      "outputs": [
        {
          "output_type": "stream",
          "name": "stdout",
          "text": [
            "<|startoftext|>Problem decription: if a man walks for 3 miles in the direction opposite to that of b and b runs for 5 miles in the opposite direction , what is the distance between them ? Possible options: a ) 6 , b ) 8 , c ) 11 , d ) 7 , e ) 9. Solution: \"distance between b and d = 3 * 5 = 8 miles distance between b and d = 7 miles distance between d and b = 5 * 5 = 6 miles distance between a and b = 6 + 2 = 4 miles distance between d and d = 4 * 5 = 8 miles distance between d and b = 8 + 2 = 3 miles distance between d and d + 3 = 3 * 5 = 36 miles distance between d and b = 3 * 5 + 36 = 8 miles distance between d and b = 8 + 2 = 6 miles distance between d and b = 6 + 2 = 10 miles distance between d and b = 6 + 2 = 10 miles distance between d and b = 10 + 2 = 14 miles distance between d and b = 14 + 2 = 18 miles distance between d and b = 18 + 2 = 24 miles distance between d and b = 24 + 2 = 32 miles distance between d and b = 32 + 2 = 36 miles distance between d and b = 32 + 2 = 48 miles distance between d and b = 48 + 2 = 60 miles distance between d and b = 60 + 2 = 70 miles distance between d and b = 70 + 2 = 75 miles distance between d and b = 75 + 2 = 79 miles distance between d and b = 79 + 2 = 161 miles distance between d and b = 159 + 2 = 183 miles distance between d and b = 183 + 2 = 192 miles distance between d and b = 192 + 2 = 210 miles distance between d and b = 210 + 2 = 190 miles distance between d and b = 190 + 2 = 271 miles distance between d and b = 271 + 2 = 196 miles distance between d and b = 196 + 2 = 210 miles distance between d and b = 210 + 2 = 250 miles distance between d and b = 250 + 2 = 220 miles distance between d and b = 220 + 2 = 180 miles distance between d and b = 180 + 2 = 183 miles distance between d and b = 183 + 2 = 225 miles distance between d and b = 225 + 2 = 212 miles distance between d and b = 212 + 2 = 189 miles distance between d and b = 189 + 2 = 150 miles distance between d and b = 150 + 2 = 110 miles distance between d and b = 110 + 2 = 100 miles distance between d and b = 100 + 2 = 125 miles distance between d and b = 125 + 2 = 166 miles distance between d and b = 166 + 2 = 208 miles distance between d and b = 208 + 2 = 288 miles distance between d and b = 288 - 2 = 234 miles distance between d and b = 234 - 2 = 324 miles distance between d and b = 324 + 2 = 180 miles distance between d and b = 180 + 2 = 300 miles distance between d and b = 300 + 2 = 334 miles distance between d and b = 334 + 2 = 512 miles distance between d and b = 512 - 2 = 275 miles distance between d and b = 275 + 2 = 278 miles distance between d and b = 278 + 2 = 402 miles distance between d and b = 402 + 2 = 410 miles distance between d and b = 410 - 2 = 429 miles distance between d and b = 429 + 2 = 385 miles distance between d and b = 385 + 2 = 550 miles distance between d and b = 550 - 2 = 542 miles distance between d and b = 550 + 2 = 549 miles distance between d and b = 549 - 2 = 554 miles distance between d and b = 554 - 2 = 560 miles distance between d and b = 560 - 2 = 576 miles distance between d and b = 560 - 2 = 576 - 2 = 530 miles distance between d and b = 530 - 2 = 579 miles distance between d and b = 530 + 2 = 579 - 4 = 579 - 3 = 579 miles distance between d and b = 579 - 3 = 579 - 2 = 579 - 2 = 579 - 2 = 579 - 3 = 579 - 3 = 579 - 2 = 579 - 3 = 579 - 3 = 579 - 2 = 579 - 3 = 579 - 2 = 579 - 3 = 579 - 2 = 579 - 2 = 579 - 3 = 579 - 2 = 579 - 2 = 579 - 3 = 579 - 3 = 579 - 2 = 579 - 2 = 579 - 3 = 579 - 2 = 579 - 3 = 579 - 2 = 579 - 3 = 579 - 2 = 579 - 3 = 579 - 2 = 579 - 3 = 5\n"
          ]
        }
      ]
    },
    {
      "cell_type": "code",
      "source": [
        "gpt2.generate(sess,\n",
        "              length=250,\n",
        "              temperature=0.3,\n",
        "              prefix=\"Problem decription: if a man walks for 7 miles in the direction opposite to that of b and b runs for 6 miles in the opposite direction , what is the distance between them ? Possible options: a ) 6 , b ) 8 , c ) 14 , d ) 7 , e ) 9. Solution:\",\n",
        "              nsamples=3,\n",
        "              batch_size=1,\n",
        "              top_k=40)"
      ],
      "metadata": {
        "id": "K6F5JRJkXUnG",
        "colab": {
          "base_uri": "https://localhost:8080/"
        },
        "outputId": "317dd281-9577-44cc-eb5a-0a96a73734bd"
      },
      "execution_count": null,
      "outputs": [
        {
          "output_type": "stream",
          "name": "stdout",
          "text": [
            "Problem decription: if a man walks for 7 miles in the direction opposite to that of b and b runs for 6 miles in the opposite direction , what is the distance between them ? Possible options: a ) 6 , b ) 8 , c ) 14 , d ) 7 , e ) 9. Solution: \"distance = ( 7 + 6 ) / 2 = ( 7 + 6 ) / 2 = ( 7 + 6 ) / 2 = ( 7 + 6 ) / 2 = ( 7 + 6 ) / 2 = ( 7 + 6 ) / 2 = ( 7 + 6 ) / 2 = ( 7 + 6 ) / 2 = ( 7 + 6 ) / 2 = ( 7 + 6 ) / 2 = ( 7 + 6 ) / 2 = ( 7 + 6 ) / 2 = ( 7 + 6 ) / 2 = ( 7 + 6 ) / 2 = ( 7 + 6 ) / 2 = ( 7 + 6 ) / 2 = ( 7 + 6 ) / 2 = ( 7 + 6 ) / 2 = ( 7 + 6 ) / 2 = ( 7 + 6 ) / 2 = ( 7 + 6 ) / 2 = ( 7 + 6 ) / 2 = ( 7 + 6 ) / 2 = ( 7 + 6 ) / 2 = ( 7 + 6 ) / 2 = ( 7 + 6 ) / 2 = ( 7 + 6 ) / 2 = ( 7 + 6 ) / 2 = ( 7 + 6 ) / 2 = ( 7 + 6 ) / 2 = ( 7 + 6 ) / 2\n",
            "====================\n",
            "Problem decription: if a man walks for 7 miles in the direction opposite to that of b and b runs for 6 miles in the opposite direction , what is the distance between them ? Possible options: a ) 6 , b ) 8 , c ) 14 , d ) 7 , e ) 9. Solution: \"distance = ( 7 + 6 ) / 2 = ( 7 + 6 ) / 2 = ( 7 + 6 ) / 2 . distance between them = ( 7 + 6 ) / 2 = ( 7 + 6 ) / 2 . distance between b and c = ( 7 + 6 ) / 2 = ( 7 + 6 ) / 2 . answer : e\"<|endoftext|>\n",
            "<|startoftext|>Problem decription: a man walks at a constant rate of 60 km / hr and at a constant rate of 40 km / hr . if he travels at a constant rate of 40 km / hr , what is the rate of his journey ? Possible options: a ) 20 km / hr , b ) 20 km / hr , c ) 20 km / hr , d ) 20 km / hr , e ) 20 km / hr. Solution: \"explanation : 60 * 40 = 40 km / hr . 60 * 40 - - - - - - - - - - - - - - - - - - - - - - - - - - - - - - - - - - - - - - - - - - - - - - - - - - - - - - - - -\n",
            "====================\n",
            "Problem decription: if a man walks for 7 miles in the direction opposite to that of b and b runs for 6 miles in the opposite direction , what is the distance between them ? Possible options: a ) 6 , b ) 8 , c ) 14 , d ) 7 , e ) 9. Solution: \"distance = 1 / 2 * 7 * 6 = 1 / 2 * 7 * 6 = 1 / 2 * 7 * 6 = 1 / 2 * 7 * 6 = 1 / 2 * 7 * 6 = 1 / 2 * 7 * 6 = 1 / 2 * 7 * 6 = 1 / 2 * 7 * 6 = 1 / 2 * 7 * 6 = 1 / 2 * 7 * 6 = 1 / 2 * 7 * 6 = 1 / 2 * 7 * 6 = 1 / 2 * 7 * 6 = 1 / 2 * 7 * 6 = 1 / 2 * 7 * 6 = 1 / 2 * 7 * 6 = 1 / 2 * 7 * 6 = 1 / 2 * 7 * 6 = 1 / 2 * 7 * 6 = 1 / 2 * 7 * 6 = 1 / 2 * 7 * 6 = 1 / 2 * 7 * 6 = 1 / 2 * 7 * 6 = 1 / 2 * 7 * 6 = 1 / 2 * 7 * 6 = 1 / 2 * 7 * 6 = 1 / 2 * 7 * 6 = 1 / 2 * 7 * 6 = 1 / 2 * 7 * 6 = 1 / 2 * 7 * 6 = 1 / 2 * 7 * 6\n",
            "====================\n"
          ]
        }
      ]
    },
    {
      "cell_type": "code",
      "source": [
        "def respuestas_gpt2(pregunta,temp):\n",
        "  return(gpt2.generate(sess,\n",
        "              length=250,\n",
        "              temperature=temp,\n",
        "              prefix=pregunta,\n",
        "              nsamples=1,\n",
        "              batch_size=1,\n",
        "              top_k=40))"
      ],
      "metadata": {
        "id": "gDj90cqIO1qs"
      },
      "execution_count": null,
      "outputs": []
    }
  ]
}